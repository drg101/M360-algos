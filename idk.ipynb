{
 "cells": [
  {
   "cell_type": "code",
   "execution_count": 3,
   "id": "under-hunger",
   "metadata": {},
   "outputs": [
    {
     "name": "stdout",
     "output_type": "stream",
     "text": [
      "doing polyPowmod(3,4,1,10011)\n",
      "doing polyPowmod(5,2,1,10011)\n",
      "doing polyPowmod(2,1,1,10011)\n",
      "Returning 2 * 1 mod (x^4 + x^1 + 1)\n",
      "2\n"
     ]
    }
   ],
   "source": [
    "from primitive import fieldPrimitive\n",
    "from polyPowmod import polyPowmod\n",
    "POLY = \"10011\"\n",
    "print(polyPowmod(3,4,1,POLY))"
   ]
  },
  {
   "cell_type": "code",
   "execution_count": null,
   "id": "lined-charleston",
   "metadata": {},
   "outputs": [],
   "source": []
  }
 ],
 "metadata": {
  "kernelspec": {
   "display_name": "Python 3",
   "language": "python",
   "name": "python3"
  },
  "language_info": {
   "codemirror_mode": {
    "name": "ipython",
    "version": 3
   },
   "file_extension": ".py",
   "mimetype": "text/x-python",
   "name": "python",
   "nbconvert_exporter": "python",
   "pygments_lexer": "ipython3",
   "version": "3.7.9"
  }
 },
 "nbformat": 4,
 "nbformat_minor": 5
}
