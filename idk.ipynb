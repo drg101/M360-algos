{
 "cells": [
  {
   "cell_type": "code",
   "execution_count": 1,
   "id": "under-hunger",
   "metadata": {},
   "outputs": [
    {
     "name": "stdout",
     "output_type": "stream",
     "text": [
      "-- primitive(F16) --\n",
      "Found @y=1, 4\n",
      "Factors of 15 are {'3': 1, '5': 1}\n",
      "Factors: {'3': 1, '5': 1}\n",
      "Trying a = 2\n",
      "Testing against factor 3\n",
      "doing polyPowmod(2,5.0,1,11001)\n",
      "doing polyPowmod(4,2.0,2,11001)\n",
      "doing polyPowmod(9,1.0,2,11001)\n",
      "Returning 9 * 2 mod (x^4 + x^3 + 1)\n",
      "polyPowmod(2, 15 / 3, 1, 11001) != 1\n",
      "Testing against factor 5\n",
      "doing polyPowmod(2,3.0,1,11001)\n",
      "doing polyPowmod(4,1.0,2,11001)\n",
      "Returning 4 * 2 mod (x^4 + x^3 + 1)\n",
      "polyPowmod(2, 15 / 5, 1, 11001) != 1\n",
      "Primitive element = 2\n",
      "2\n"
     ]
    }
   ],
   "source": [
    "from primitive import fieldPrimitive\n",
    "from polyPowmod import polyPowmod\n",
    "POLY = \"10011\"\n",
    "print(fieldPrimitive(16))"
   ]
  },
  {
   "cell_type": "code",
   "execution_count": 2,
   "id": "lined-charleston",
   "metadata": {},
   "outputs": [
    {
     "name": "stdout",
     "output_type": "stream",
     "text": [
      "-- primitive(F16) --\n",
      "Found @y=1, 4\n",
      "Factors of 15 are {'3': 1, '5': 1}\n",
      "Factors: {'3': 1, '5': 1}\n",
      "Trying a = 2\n",
      "Testing against factor 3\n",
      "doing polyPowmod(2,5.0,1,11001)\n",
      "doing polyPowmod(4,2.0,2,11001)\n",
      "doing polyPowmod(9,1.0,2,11001)\n",
      "Returning 9 * 2 mod (x^4 + x^3 + 1)\n",
      "polyPowmod(2, 15 / 3, 1, 11001) != 1\n",
      "Testing against factor 5\n",
      "doing polyPowmod(2,3.0,1,11001)\n",
      "doing polyPowmod(4,1.0,2,11001)\n",
      "Returning 4 * 2 mod (x^4 + x^3 + 1)\n",
      "polyPowmod(2, 15 / 5, 1, 11001) != 1\n",
      "Primitive element = 2\n",
      "doing polyPowmod(2,1,1,11001)\n",
      "Returning 2 * 1 mod (x^4 + x^3 + 1)\n",
      "doing polyPowmod(2,2,1,11001)\n",
      "doing polyPowmod(4,1,1,11001)\n",
      "Returning 4 * 1 mod (x^4 + x^3 + 1)\n",
      "doing polyPowmod(2,3,1,11001)\n",
      "doing polyPowmod(4,1,2,11001)\n",
      "Returning 4 * 2 mod (x^4 + x^3 + 1)\n",
      "doing polyPowmod(2,4,1,11001)\n",
      "doing polyPowmod(4,2,1,11001)\n",
      "doing polyPowmod(9,1,1,11001)\n",
      "Returning 9 * 1 mod (x^4 + x^3 + 1)\n",
      "doing polyPowmod(2,5,1,11001)\n",
      "doing polyPowmod(4,2,2,11001)\n",
      "doing polyPowmod(9,1,2,11001)\n",
      "Returning 9 * 2 mod (x^4 + x^3 + 1)\n",
      "doing polyPowmod(2,6,1,11001)\n",
      "doing polyPowmod(4,3,1,11001)\n",
      "doing polyPowmod(9,1,4,11001)\n",
      "Returning 9 * 4 mod (x^4 + x^3 + 1)\n",
      "doing polyPowmod(2,7,1,11001)\n",
      "doing polyPowmod(4,3,2,11001)\n",
      "doing polyPowmod(9,1,8,11001)\n",
      "Returning 9 * 8 mod (x^4 + x^3 + 1)\n",
      "doing polyPowmod(2,8,1,11001)\n",
      "doing polyPowmod(4,4,1,11001)\n",
      "doing polyPowmod(9,2,1,11001)\n",
      "doing polyPowmod(14,1,1,11001)\n",
      "Returning 14 * 1 mod (x^4 + x^3 + 1)\n",
      "doing polyPowmod(2,9,1,11001)\n",
      "doing polyPowmod(4,4,2,11001)\n",
      "doing polyPowmod(9,2,2,11001)\n",
      "doing polyPowmod(14,1,2,11001)\n",
      "Returning 14 * 2 mod (x^4 + x^3 + 1)\n",
      "doing polyPowmod(2,10,1,11001)\n",
      "doing polyPowmod(4,5,1,11001)\n",
      "doing polyPowmod(9,2,4,11001)\n",
      "doing polyPowmod(14,1,4,11001)\n",
      "Returning 14 * 4 mod (x^4 + x^3 + 1)\n",
      "doing polyPowmod(2,11,1,11001)\n",
      "doing polyPowmod(4,5,2,11001)\n",
      "doing polyPowmod(9,2,8,11001)\n",
      "doing polyPowmod(14,1,8,11001)\n",
      "Returning 14 * 8 mod (x^4 + x^3 + 1)\n",
      "doing polyPowmod(2,12,1,11001)\n",
      "doing polyPowmod(4,6,1,11001)\n",
      "doing polyPowmod(9,3,1,11001)\n",
      "doing polyPowmod(14,1,9,11001)\n",
      "Returning 14 * 9 mod (x^4 + x^3 + 1)\n",
      "doing polyPowmod(2,13,1,11001)\n",
      "doing polyPowmod(4,6,2,11001)\n",
      "doing polyPowmod(9,3,2,11001)\n",
      "doing polyPowmod(14,1,11,11001)\n",
      "Returning 14 * 11 mod (x^4 + x^3 + 1)\n",
      "doing polyPowmod(2,14,1,11001)\n",
      "doing polyPowmod(4,7,1,11001)\n",
      "doing polyPowmod(9,3,4,11001)\n",
      "doing polyPowmod(14,1,15,11001)\n",
      "Returning 14 * 15 mod (x^4 + x^3 + 1)\n",
      "doing polyPowmod(2,15,1,11001)\n",
      "doing polyPowmod(4,7,2,11001)\n",
      "doing polyPowmod(9,3,8,11001)\n",
      "doing polyPowmod(14,1,7,11001)\n",
      "Returning 14 * 7 mod (x^4 + x^3 + 1)\n",
      "[2, 4, 8, 9, 11, 15, 7, 14, 5, 10, 13, 3, 6, 12, 1]\n"
     ]
    }
   ],
   "source": [
    "from getCycle import getFieldCycle\n",
    "BASE = 16\n",
    "print(getFieldCycle(fieldPrimitive(BASE),16))"
   ]
  },
  {
   "cell_type": "code",
   "execution_count": null,
   "id": "minimal-perry",
   "metadata": {},
   "outputs": [],
   "source": []
  }
 ],
 "metadata": {
  "kernelspec": {
   "display_name": "Python 3",
   "language": "python",
   "name": "python3"
  },
  "language_info": {
   "codemirror_mode": {
    "name": "ipython",
    "version": 3
   },
   "file_extension": ".py",
   "mimetype": "text/x-python",
   "name": "python",
   "nbconvert_exporter": "python",
   "pygments_lexer": "ipython3",
   "version": "3.7.9"
  }
 },
 "nbformat": 4,
 "nbformat_minor": 5
}
