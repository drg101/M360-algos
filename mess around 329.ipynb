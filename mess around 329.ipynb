{
 "cells": [
  {
   "cell_type": "markdown",
   "id": "second-calculation",
   "metadata": {},
   "source": [
    "## Template"
   ]
  },
  {
   "cell_type": "markdown",
   "id": "extensive-wellington",
   "metadata": {},
   "source": [
    "#### Daniel Reynolds //"
   ]
  },
  {
   "cell_type": "markdown",
   "id": "third-nepal",
   "metadata": {},
   "source": [
    "Useful symbols: ⊗,⊕,$\\sqrt{10}$,$F_{base}$,$a^{⊗b}$"
   ]
  },
  {
   "cell_type": "code",
   "execution_count": 1,
   "id": "ruled-video",
   "metadata": {},
   "outputs": [],
   "source": [
    "%config IPCompleter.greedy=True\n",
    "from IPython.display import display, Markdown, Latex\n",
    "#imports\n",
    "from millerRabin import millerRabin\n",
    "from fermatFactor import fermatFactor\n",
    "from binom import binom\n",
    "from probalisticIsPrime import probalisticIsPrime\n",
    "from polyAdd import polyAdd\n",
    "from polyLongDiv import polyLongDiv\n",
    "from polyMult import polyMult\n",
    "from powmod import powMod, powmod\n",
    "from polyPowmod import polyPowmod\n",
    "from computeInverse import computeInverse\n",
    "from primitive import primitive, fieldPrimitive\n",
    "from getCycle import getCycle,getFieldCycle\n",
    "from sqrtMod import sqrtField\n",
    "from isASquare import isASquare\n",
    "from pFactor import pFactor\n",
    "from allPrimitives import allPrimitives\n",
    "from euler import euler\n",
    "from fermatTest import fermatTest\n",
    "from baseToPoly import baseToPoly\n",
    "from frobenius import frobeniusPowers,frobeniusSqrt,frobenius\n",
    "from trace import trace\n",
    "from quadraticEq import quadraticEq, quadraticNumSolutions\n",
    "from isASquare import isASquare, legendre, jacobi\n",
    "from allSquares import allSquares,allSquaresAndRoots\n",
    "from characteristic import characteristic\n",
    "from pFactor import pFactor\n",
    "from bitsToPoly import bitsToPoly\n",
    "from fieldDiv import fieldDiv\n",
    "from zeroKnowledgeProof import zeroKnowledgeProof\n",
    "from divMod import divMod\n",
    "from chineseRemainderTheorem import crt, printCrtTable, crtJacobi, crtProblem\n",
    "from gcd import gcd\n",
    "from generateBigPrime import generateBigPrime\n",
    "from solovayStrassen import solovayStrassen\n",
    "from probalisticIsPrime import probalisticIsPrime"
   ]
  },
  {
   "cell_type": "code",
   "execution_count": 2,
   "id": "tropical-stocks",
   "metadata": {},
   "outputs": [
    {
     "name": "stdout",
     "output_type": "stream",
     "text": [
      "Using a=18\n",
      "powmod res = 60\n",
      "jacobi res = -1\n",
      "Using a=49\n",
      "powmod res = 1\n",
      "jacobi res = 1\n",
      "Using a=55\n",
      "powmod res = 60\n",
      "jacobi res = -1\n",
      "Using a=15\n",
      "powmod res = 1\n",
      "jacobi res = 1\n",
      "Using a=10\n",
      "powmod res = 60\n",
      "jacobi res = -1\n"
     ]
    },
    {
     "data": {
      "text/plain": [
       "True"
      ]
     },
     "execution_count": 2,
     "metadata": {},
     "output_type": "execute_result"
    }
   ],
   "source": [
    "solovayStrassen(61)"
   ]
  },
  {
   "cell_type": "code",
   "execution_count": 3,
   "id": "charitable-baseball",
   "metadata": {},
   "outputs": [
    {
     "name": "stdout",
     "output_type": "stream",
     "text": [
      "Using a=20723\n",
      "powmod res = 22967\n",
      "jacobi res = 1\n"
     ]
    },
    {
     "data": {
      "text/plain": [
       "False"
      ]
     },
     "execution_count": 3,
     "metadata": {},
     "output_type": "execute_result"
    }
   ],
   "source": [
    "solovayStrassen(27383)"
   ]
  },
  {
   "cell_type": "code",
   "execution_count": 4,
   "id": "noted-forestry",
   "metadata": {},
   "outputs": [
    {
     "name": "stdout",
     "output_type": "stream",
     "text": [
      "Using a=1775\n",
      "powmod res = 3187\n",
      "jacobi res = 1\n"
     ]
    },
    {
     "data": {
      "text/plain": [
       "False"
      ]
     },
     "execution_count": 4,
     "metadata": {},
     "output_type": "execute_result"
    }
   ],
   "source": [
    "solovayStrassen(6509)"
   ]
  },
  {
   "cell_type": "code",
   "execution_count": 5,
   "id": "abandoned-highway",
   "metadata": {},
   "outputs": [
    {
     "data": {
      "text/plain": [
       "{'139': 1, '197': 1}"
      ]
     },
     "execution_count": 5,
     "metadata": {},
     "output_type": "execute_result"
    }
   ],
   "source": [
    "pFactor(27383)"
   ]
  },
  {
   "cell_type": "code",
   "execution_count": 6,
   "id": "supported-hybrid",
   "metadata": {},
   "outputs": [
    {
     "data": {
      "text/plain": [
       "{'23': 1, '283': 1}"
      ]
     },
     "execution_count": 6,
     "metadata": {},
     "output_type": "execute_result"
    }
   ],
   "source": [
    "pFactor(6509)"
   ]
  },
  {
   "cell_type": "code",
   "execution_count": 7,
   "id": "intended-pleasure",
   "metadata": {},
   "outputs": [
    {
     "name": "stdout",
     "output_type": "stream",
     "text": [
      "Using a=9647\n",
      "powmod res = 1\n",
      "jacobi res = 1\n",
      "Using a=4072\n",
      "powmod res = 17382\n",
      "jacobi res = -1\n",
      "Using a=7060\n",
      "powmod res = 17382\n",
      "jacobi res = -1\n",
      "Using a=15591\n",
      "powmod res = 1\n",
      "jacobi res = 1\n",
      "Using a=14169\n",
      "powmod res = 17382\n",
      "jacobi res = -1\n"
     ]
    },
    {
     "data": {
      "text/plain": [
       "True"
      ]
     },
     "execution_count": 7,
     "metadata": {},
     "output_type": "execute_result"
    }
   ],
   "source": [
    "solovayStrassen(17383)"
   ]
  },
  {
   "cell_type": "code",
   "execution_count": 8,
   "id": "alien-leonard",
   "metadata": {},
   "outputs": [
    {
     "data": {
      "text/plain": [
       "True"
      ]
     },
     "execution_count": 8,
     "metadata": {},
     "output_type": "execute_result"
    }
   ],
   "source": [
    "probalisticIsPrime(61)"
   ]
  },
  {
   "cell_type": "code",
   "execution_count": 9,
   "id": "theoretical-rebecca",
   "metadata": {},
   "outputs": [
    {
     "data": {
      "text/plain": [
       "True"
      ]
     },
     "execution_count": 9,
     "metadata": {},
     "output_type": "execute_result"
    }
   ],
   "source": [
    "probalisticIsPrime(561)"
   ]
  },
  {
   "cell_type": "code",
   "execution_count": 11,
   "id": "composed-biotechnology",
   "metadata": {},
   "outputs": [
    {
     "data": {
      "text/plain": [
       "True"
      ]
     },
     "execution_count": 11,
     "metadata": {},
     "output_type": "execute_result"
    }
   ],
   "source": [
    "probalisticIsPrime(561)"
   ]
  },
  {
   "cell_type": "code",
   "execution_count": 12,
   "id": "hawaiian-nickel",
   "metadata": {},
   "outputs": [
    {
     "data": {
      "text/plain": [
       "72654073225545803427"
      ]
     },
     "execution_count": 12,
     "metadata": {},
     "output_type": "execute_result"
    }
   ],
   "source": [
    "generateBigPrime(20)"
   ]
  },
  {
   "cell_type": "code",
   "execution_count": 13,
   "id": "apparent-discrimination",
   "metadata": {},
   "outputs": [
    {
     "data": {
      "text/plain": [
       "9988347230079459501328432529431459617588009271620054972332580393164981176301390065754328167941465869"
      ]
     },
     "execution_count": 13,
     "metadata": {},
     "output_type": "execute_result"
    }
   ],
   "source": [
    "generateBigPrime(100)"
   ]
  },
  {
   "cell_type": "code",
   "execution_count": 14,
   "id": "ignored-syracuse",
   "metadata": {},
   "outputs": [
    {
     "data": {
      "text/plain": [
       "891283543222847966381398861722894103787318512149534407061438351614295274334367625375630097416106393042737540320412726145169781105778076543594366251697"
      ]
     },
     "execution_count": 14,
     "metadata": {},
     "output_type": "execute_result"
    }
   ],
   "source": [
    "generateBigPrime(150)"
   ]
  },
  {
   "cell_type": "code",
   "execution_count": 15,
   "id": "appointed-massage",
   "metadata": {},
   "outputs": [
    {
     "data": {
      "text/plain": [
       "67396653017501939157210725397280926315658624828218302856236781700221624110321553352939828796079831543855047719985596152567045113243036041154230603071008509578438013534476260089100702759819645448232516"
      ]
     },
     "execution_count": 15,
     "metadata": {},
     "output_type": "execute_result"
    }
   ],
   "source": [
    "generateBigPrime(200)"
   ]
  },
  {
   "cell_type": "code",
   "execution_count": 16,
   "id": "decimal-harvest",
   "metadata": {},
   "outputs": [
    {
     "data": {
      "text/plain": [
       "8953372370889052512616163708404999994565042653421644767104069593863696484160016568582875456776088927324901257771123744662877659365789263553201703567604109405467782308829442671855641402931353988391090269823603211060179939069763784467662233813775458358"
      ]
     },
     "execution_count": 16,
     "metadata": {},
     "output_type": "execute_result"
    }
   ],
   "source": [
    "generateBigPrime(250)"
   ]
  },
  {
   "cell_type": "code",
   "execution_count": null,
   "id": "breathing-armor",
   "metadata": {},
   "outputs": [],
   "source": []
  }
 ],
 "metadata": {
  "kernelspec": {
   "display_name": "Python 3",
   "language": "python",
   "name": "python3"
  },
  "language_info": {
   "codemirror_mode": {
    "name": "ipython",
    "version": 3
   },
   "file_extension": ".py",
   "mimetype": "text/x-python",
   "name": "python",
   "nbconvert_exporter": "python",
   "pygments_lexer": "ipython3",
   "version": "3.7.9"
  }
 },
 "nbformat": 4,
 "nbformat_minor": 5
}
