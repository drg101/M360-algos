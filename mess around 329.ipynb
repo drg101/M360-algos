{
 "cells": [
  {
   "cell_type": "markdown",
   "id": "second-calculation",
   "metadata": {},
   "source": [
    "## Template"
   ]
  },
  {
   "cell_type": "markdown",
   "id": "extensive-wellington",
   "metadata": {},
   "source": [
    "#### Daniel Reynolds //"
   ]
  },
  {
   "cell_type": "markdown",
   "id": "third-nepal",
   "metadata": {},
   "source": [
    "Useful symbols: ⊗,⊕,$\\sqrt{10}$,$F_{base}$,$a^{⊗b}$"
   ]
  },
  {
   "cell_type": "code",
   "execution_count": 1,
   "id": "ruled-video",
   "metadata": {},
   "outputs": [],
   "source": [
    "%config IPCompleter.greedy=True\n",
    "from IPython.display import display, Markdown, Latex\n",
    "#imports\n",
    "from millerRabin import millerRabin\n",
    "from fermatFactor import fermatFactor\n",
    "from binom import binom\n",
    "from probalisticIsPrime import probalisticIsPrime\n",
    "from polyAdd import polyAdd\n",
    "from polyLongDiv import polyLongDiv\n",
    "from polyMult import polyMult\n",
    "from powmod import powMod, powmod\n",
    "from polyPowmod import polyPowmod\n",
    "from computeInverse import computeInverse\n",
    "from primitive import primitive, fieldPrimitive\n",
    "from getCycle import getCycle,getFieldCycle\n",
    "from sqrtMod import sqrtField\n",
    "from isASquare import isASquare\n",
    "from pFactor import pFactor\n",
    "from allPrimitives import allPrimitives\n",
    "from euler import euler\n",
    "from fermatTest import fermatTest\n",
    "from baseToPoly import baseToPoly\n",
    "from frobenius import frobeniusPowers,frobeniusSqrt,frobenius\n",
    "from trace import trace\n",
    "from quadraticEq import quadraticEq, quadraticNumSolutions\n",
    "from isASquare import isASquare, legendre, jacobi\n",
    "from allSquares import allSquares,allSquaresAndRoots\n",
    "from characteristic import characteristic\n",
    "from pFactor import pFactor\n",
    "from bitsToPoly import bitsToPoly\n",
    "from fieldDiv import fieldDiv\n",
    "from zeroKnowledgeProof import zeroKnowledgeProof\n",
    "from divMod import divMod\n",
    "from chineseRemainderTheorem import crt, printCrtTable, crtJacobi, crtProblem\n",
    "from gcd import gcd\n",
    "from generateBigPrime import generateBigPrime"
   ]
  },
  {
   "cell_type": "code",
   "execution_count": 2,
   "id": "medium-diagram",
   "metadata": {},
   "outputs": [
    {
     "data": {
      "text/plain": [
       "True"
      ]
     },
     "execution_count": 2,
     "metadata": {},
     "output_type": "execute_result"
    }
   ],
   "source": [
    "n = 1549411\n",
    "x = 1075922\n",
    "powMod(4467,2,1,n) == 1361157"
   ]
  },
  {
   "cell_type": "code",
   "execution_count": 3,
   "id": "warming-holder",
   "metadata": {},
   "outputs": [
    {
     "data": {
      "text/plain": [
       "True"
      ]
     },
     "execution_count": 3,
     "metadata": {},
     "output_type": "execute_result"
    }
   ],
   "source": [
    "powMod(257646,2,1,n) == (x * 743044) % n"
   ]
  },
  {
   "cell_type": "code",
   "execution_count": 4,
   "id": "uniform-melissa",
   "metadata": {},
   "outputs": [
    {
     "data": {
      "text/plain": [
       "True"
      ]
     },
     "execution_count": 4,
     "metadata": {},
     "output_type": "execute_result"
    }
   ],
   "source": [
    "powMod(811105,2,1,n) == (x * 1485354) % n"
   ]
  },
  {
   "cell_type": "code",
   "execution_count": 5,
   "id": "atmospheric-highway",
   "metadata": {},
   "outputs": [
    {
     "data": {
      "text/plain": [
       "True"
      ]
     },
     "execution_count": 5,
     "metadata": {},
     "output_type": "execute_result"
    }
   ],
   "source": [
    "powMod(66399,2,1,n) == 752906"
   ]
  },
  {
   "cell_type": "code",
   "execution_count": 6,
   "id": "charged-newport",
   "metadata": {},
   "outputs": [
    {
     "data": {
      "text/plain": [
       "False"
      ]
     },
     "execution_count": 6,
     "metadata": {},
     "output_type": "execute_result"
    }
   ],
   "source": [
    "powMod(88324,2,1,n) == 1394003"
   ]
  },
  {
   "cell_type": "code",
   "execution_count": 7,
   "id": "pleased-gregory",
   "metadata": {},
   "outputs": [
    {
     "data": {
      "text/plain": [
       "True"
      ]
     },
     "execution_count": 7,
     "metadata": {},
     "output_type": "execute_result"
    }
   ],
   "source": [
    "zeroKnowledgeProof(1361157,0,4467,n,x)"
   ]
  },
  {
   "cell_type": "code",
   "execution_count": 8,
   "id": "square-qatar",
   "metadata": {},
   "outputs": [
    {
     "data": {
      "text/plain": [
       "True"
      ]
     },
     "execution_count": 8,
     "metadata": {},
     "output_type": "execute_result"
    }
   ],
   "source": [
    "zeroKnowledgeProof(743044,1,257646,n,x)"
   ]
  },
  {
   "cell_type": "code",
   "execution_count": 9,
   "id": "drawn-dress",
   "metadata": {},
   "outputs": [
    {
     "data": {
      "text/plain": [
       "True"
      ]
     },
     "execution_count": 9,
     "metadata": {},
     "output_type": "execute_result"
    }
   ],
   "source": [
    "zeroKnowledgeProof(1485354,1,811105,n,x)"
   ]
  },
  {
   "cell_type": "code",
   "execution_count": 10,
   "id": "ultimate-republican",
   "metadata": {},
   "outputs": [
    {
     "data": {
      "text/plain": [
       "True"
      ]
     },
     "execution_count": 10,
     "metadata": {},
     "output_type": "execute_result"
    }
   ],
   "source": [
    "zeroKnowledgeProof(752906,0,66399,n,x)"
   ]
  },
  {
   "cell_type": "code",
   "execution_count": 11,
   "id": "welcome-correlation",
   "metadata": {},
   "outputs": [
    {
     "data": {
      "text/plain": [
       "False"
      ]
     },
     "execution_count": 11,
     "metadata": {},
     "output_type": "execute_result"
    }
   ],
   "source": [
    "zeroKnowledgeProof(1394003,0,88324,n,x)"
   ]
  },
  {
   "cell_type": "code",
   "execution_count": null,
   "id": "completed-white",
   "metadata": {},
   "outputs": [],
   "source": []
  },
  {
   "cell_type": "code",
   "execution_count": 15,
   "id": "featured-harvest",
   "metadata": {},
   "outputs": [
    {
     "data": {
      "text/markdown": [
       "|p/q|$0$|$1$|$2$|$3$|$4$|$5$|$6$|\n",
       "|:-:|:-:|:-:|:-:|:-:|:-:|:-:|:-:|\n",
       "|$0$|$0$|$15$|$30$|$10$|$25$|$5$|$20$|\n",
       "|$1$|$21$|$1$|$16$|$31$|$11$|$26$|$6$|\n",
       "|$2$|$7$|$22$|$2$|$17$|$32$|$12$|$27$|\n",
       "|$3$|$28$|$8$|$23$|$3$|$18$|$33$|$13$|\n",
       "|$4$|$14$|$29$|$9$|$24$|$4$|$19$|$34$|"
      ],
      "text/plain": [
       "<IPython.core.display.Markdown object>"
      ]
     },
     "metadata": {},
     "output_type": "display_data"
    }
   ],
   "source": [
    "printCrtTable(crt(5,7,True))"
   ]
  },
  {
   "cell_type": "code",
   "execution_count": 13,
   "id": "studied-kuwait",
   "metadata": {},
   "outputs": [
    {
     "data": {
      "text/markdown": [
       "|p/q|$0$|$1$|$2$|$3$|$4$|$5$|$6$|\n",
       "|:-:|:-:|:-:|:-:|:-:|:-:|:-:|:-:|\n",
       "|$0$|$0$|$0$|$0$|$0$|$0$|$0$|$0$|\n",
       "|$1$|$0$|$1$|$1$|$-1$|$1$|$-1$|$-1$|\n",
       "|$2$|$0$|$-1$|$-1$|$1$|$-1$|$1$|$1$|\n",
       "|$3$|$0$|$-1$|$-1$|$1$|$-1$|$1$|$1$|\n",
       "|$4$|$0$|$1$|$1$|$-1$|$1$|$-1$|$-1$|"
      ],
      "text/plain": [
       "<IPython.core.display.Markdown object>"
      ]
     },
     "metadata": {},
     "output_type": "display_data"
    }
   ],
   "source": [
    "printCrtTable(crtJacobi(5,7))"
   ]
  },
  {
   "cell_type": "code",
   "execution_count": 14,
   "id": "monthly-difference",
   "metadata": {},
   "outputs": [
    {
     "data": {
      "text/plain": [
       "357"
      ]
     },
     "execution_count": 14,
     "metadata": {},
     "output_type": "execute_result"
    }
   ],
   "source": [
    "crtProblem(6,16,13,31)"
   ]
  },
  {
   "cell_type": "code",
   "execution_count": 16,
   "id": "equipped-delaware",
   "metadata": {},
   "outputs": [
    {
     "name": "stdout",
     "output_type": "stream",
     "text": [
      "Finding all squares and their roots in F143\n"
     ]
    },
    {
     "data": {
      "text/plain": [
       "[42, 68, 75, 101]"
      ]
     },
     "execution_count": 16,
     "metadata": {},
     "output_type": "execute_result"
    }
   ],
   "source": [
    "allSquaresAndRoots(143)[48]"
   ]
  },
  {
   "cell_type": "code",
   "execution_count": 17,
   "id": "first-flesh",
   "metadata": {},
   "outputs": [
    {
     "name": "stdout",
     "output_type": "stream",
     "text": [
      "Finding all squares and their roots in F11\n"
     ]
    },
    {
     "data": {
      "text/plain": [
       "[2, 9]"
      ]
     },
     "execution_count": 17,
     "metadata": {},
     "output_type": "execute_result"
    }
   ],
   "source": [
    "allSquaresAndRoots(11)[48%11]"
   ]
  },
  {
   "cell_type": "code",
   "execution_count": 18,
   "id": "swiss-berkeley",
   "metadata": {},
   "outputs": [
    {
     "name": "stdout",
     "output_type": "stream",
     "text": [
      "Finding all squares and their roots in F13\n"
     ]
    },
    {
     "data": {
      "text/plain": [
       "[3, 10]"
      ]
     },
     "execution_count": 18,
     "metadata": {},
     "output_type": "execute_result"
    }
   ],
   "source": [
    "allSquaresAndRoots(13)[48%13]"
   ]
  },
  {
   "cell_type": "code",
   "execution_count": 19,
   "id": "upset-moisture",
   "metadata": {},
   "outputs": [
    {
     "data": {
      "text/plain": [
       "68"
      ]
     },
     "execution_count": 19,
     "metadata": {},
     "output_type": "execute_result"
    }
   ],
   "source": [
    "crtProblem(2,3,11,13)"
   ]
  },
  {
   "cell_type": "code",
   "execution_count": 20,
   "id": "optional-index",
   "metadata": {},
   "outputs": [
    {
     "data": {
      "text/plain": [
       "101"
      ]
     },
     "execution_count": 20,
     "metadata": {},
     "output_type": "execute_result"
    }
   ],
   "source": [
    "crtProblem(2,10,11,13)"
   ]
  },
  {
   "cell_type": "code",
   "execution_count": 22,
   "id": "hundred-teens",
   "metadata": {},
   "outputs": [
    {
     "data": {
      "text/plain": [
       "42"
      ]
     },
     "execution_count": 22,
     "metadata": {},
     "output_type": "execute_result"
    }
   ],
   "source": [
    "crtProblem(9,3,11,13)"
   ]
  },
  {
   "cell_type": "code",
   "execution_count": 23,
   "id": "atomic-contrast",
   "metadata": {},
   "outputs": [
    {
     "data": {
      "text/plain": [
       "75"
      ]
     },
     "execution_count": 23,
     "metadata": {},
     "output_type": "execute_result"
    }
   ],
   "source": [
    "crtProblem(9,10,11,13)"
   ]
  },
  {
   "cell_type": "markdown",
   "id": "quality-nicholas",
   "metadata": {},
   "source": [
    "Num square roots is 4 2 1"
   ]
  }
 ],
 "metadata": {
  "kernelspec": {
   "display_name": "Python 3",
   "language": "python",
   "name": "python3"
  },
  "language_info": {
   "codemirror_mode": {
    "name": "ipython",
    "version": 3
   },
   "file_extension": ".py",
   "mimetype": "text/x-python",
   "name": "python",
   "nbconvert_exporter": "python",
   "pygments_lexer": "ipython3",
   "version": "3.7.9"
  }
 },
 "nbformat": 4,
 "nbformat_minor": 5
}
