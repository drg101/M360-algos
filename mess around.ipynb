{
 "cells": [
  {
   "cell_type": "markdown",
   "id": "second-calculation",
   "metadata": {},
   "source": [
    "## Template"
   ]
  },
  {
   "cell_type": "markdown",
   "id": "extensive-wellington",
   "metadata": {},
   "source": [
    "#### Daniel Reynolds //"
   ]
  },
  {
   "cell_type": "markdown",
   "id": "third-nepal",
   "metadata": {},
   "source": [
    "Useful symbols: ⊗,⊕,$\\sqrt{10}$,$F_{base}$,$a^{⊗b}$"
   ]
  },
  {
   "cell_type": "code",
   "execution_count": 1,
   "id": "ruled-video",
   "metadata": {},
   "outputs": [],
   "source": [
    "%config IPCompleter.greedy=True\n",
    "from IPython.display import display, Markdown, Latex\n",
    "#imports\n",
    "from millerRabin import millerRabin\n",
    "from fermatFactor import fermatFactor\n",
    "from binom import binom\n",
    "from probalisticIsPrime import probalisticIsPrime\n",
    "from polyAdd import polyAdd\n",
    "from polyLongDiv import polyLongDiv\n",
    "from polyMult import polyMult\n",
    "from powmod import powMod, powmod\n",
    "from polyPowmod import polyPowmod\n",
    "from computeInverse import computeInverse\n",
    "from primitive import primitive, fieldPrimitive\n",
    "from getCycle import getCycle,getFieldCycle\n",
    "from sqrtMod import sqrtField\n",
    "from isASquare import isASquare\n",
    "from pFactor import pFactor\n",
    "from allPrimitives import allPrimitives\n",
    "from euler import euler\n",
    "from fermatTest import fermatTest\n",
    "from baseToPoly import baseToPoly\n",
    "from frobenius import frobeniusPowers,frobeniusSqrt,frobenius\n",
    "from trace import trace\n",
    "from quadraticEq import quadraticEq, quadraticNumSolutions\n",
    "from isASquare import isASquare, legendre, jacobi\n",
    "from allSquares import allSquares,allSquaresAndRoots\n",
    "from characteristic import characteristic\n",
    "from pFactor import pFactor\n",
    "from bitsToPoly import bitsToPoly\n",
    "from fieldDiv import fieldDiv\n",
    "from zeroKnowledgeProof import zeroKnowledgeProof\n",
    "from divMod import divMod\n",
    "from chineseRemainderTheorem import crt, crtJacobi, crtProblem\n",
    "from gcd import gcd\n",
    "from generateBigPrime import generateBigPrime\n",
    "from solovayStrassen import solovayStrassen\n",
    "from probalisticIsPrime import probalisticIsPrime\n",
    "from diffieHelmanSim import runDiffie\n",
    "from printNB import printex, printmd, printTable, boldify, boldifyList, latexify, latexifyList, printCrtTable\n",
    "from rootModP import rootModP\n",
    "from discreteLog import discreteLog\n",
    "from eulerCriterion import eulerCriterion"
   ]
  },
  {
   "cell_type": "code",
   "execution_count": 2,
   "id": "convertible-oakland",
   "metadata": {
    "scrolled": true
   },
   "outputs": [
    {
     "data": {
      "text/markdown": [
       "Our 2 digit psuedoprime, $N=43$"
      ],
      "text/plain": [
       "<IPython.core.display.Markdown object>"
      ]
     },
     "metadata": {},
     "output_type": "display_data"
    },
    {
     "data": {
      "text/markdown": [
       "Our primitive generator, $G=3$"
      ],
      "text/plain": [
       "<IPython.core.display.Markdown object>"
      ]
     },
     "metadata": {},
     "output_type": "display_data"
    },
    {
     "data": {
      "text/markdown": [
       "Alice's private key, $a=14$"
      ],
      "text/plain": [
       "<IPython.core.display.Markdown object>"
      ]
     },
     "metadata": {},
     "output_type": "display_data"
    },
    {
     "data": {
      "text/markdown": [
       "Bob's private key, $b=23$"
      ],
      "text/plain": [
       "<IPython.core.display.Markdown object>"
      ]
     },
     "metadata": {},
     "output_type": "display_data"
    },
    {
     "data": {
      "text/markdown": [
       "Alice's public key, $A\\ =\\ G^{a}\\ mod \\ N\\ =\\ 3^{14}\\ mod\\ 43\\ =\\ 36$"
      ],
      "text/plain": [
       "<IPython.core.display.Markdown object>"
      ]
     },
     "metadata": {},
     "output_type": "display_data"
    },
    {
     "data": {
      "text/markdown": [
       "Bob's public key, $B\\ =\\ G^{b}\\ mod \\ N\\ =\\ 3^{23}\\ mod\\ 43\\ =\\ 34$"
      ],
      "text/plain": [
       "<IPython.core.display.Markdown object>"
      ]
     },
     "metadata": {},
     "output_type": "display_data"
    },
    {
     "data": {
      "text/markdown": [
       "Bob has received A=36 from Alice, and calculates $k_{A}\\ =\\ A^{b}\\ mod\\ N\\ =\\ 36^{23}\\ mod\\ 43 = 6$"
      ],
      "text/plain": [
       "<IPython.core.display.Markdown object>"
      ]
     },
     "metadata": {},
     "output_type": "display_data"
    },
    {
     "data": {
      "text/markdown": [
       "Alice has received B=34 from Bob, and calculates $k_{B}\\ =\\ B^{a}\\ mod\\ N\\ =\\ 34^{14}\\ mod\\ 43 = 6$"
      ],
      "text/plain": [
       "<IPython.core.display.Markdown object>"
      ]
     },
     "metadata": {},
     "output_type": "display_data"
    },
    {
     "data": {
      "text/markdown": [
       "Alice and Bob have now agreed on a shared secret of $6$ without sharing their own secrets."
      ],
      "text/plain": [
       "<IPython.core.display.Markdown object>"
      ]
     },
     "metadata": {},
     "output_type": "display_data"
    }
   ],
   "source": [
    "runDiffie(2)"
   ]
  },
  {
   "cell_type": "code",
   "execution_count": 3,
   "id": "designed-denmark",
   "metadata": {
    "scrolled": false
   },
   "outputs": [
    {
     "data": {
      "text/markdown": [
       "Finding $x$ for which $17^{x}=801\\ mod \\ 911$"
      ],
      "text/plain": [
       "<IPython.core.display.Markdown object>"
      ]
     },
     "metadata": {},
     "output_type": "display_data"
    },
    {
     "name": "stdout",
     "output_type": "stream",
     "text": [
      "17 is a primitive element of 911, getting cycle of 17 mod 911\n",
      "doing bsgs algo\n",
      "n=31\n",
      "i=24, j=8\n"
     ]
    },
    {
     "data": {
      "text/markdown": [
       "|i|B[i]|G[i]|\n",
       "|:-:|:-:|:-:|\n",
       "|1|17|755|\n",
       "|2|289|491|\n",
       "|3|358|481|\n",
       "|4|620|384|\n",
       "|5|519|263|\n",
       "|6|624|638|\n",
       "|7|587|176|\n",
       "|8|869|**614**|\n",
       "|9|197|672|\n",
       "|10|616|688|\n",
       "|11|451|661|\n",
       "|12|379|308|\n",
       "|13|66|619|\n",
       "|14|211|265|\n",
       "|15|854|293|\n",
       "|16|853|18|\n",
       "|17|836|539|\n",
       "|18|547|400|\n",
       "|19|189|236|\n",
       "|20|480|285|\n",
       "|21|872|487|\n",
       "|22|248|260|\n",
       "|23|572|700|\n",
       "|24|**614**|413|\n",
       "|25|417|271|\n",
       "|26|712|169|\n",
       "|27|261|455|\n",
       "|28|793|314|\n",
       "|29|727|495|\n",
       "|30|516|702|\n",
       "|31|573|68|\n"
      ],
      "text/plain": [
       "<IPython.core.display.Markdown object>"
      ]
     },
     "metadata": {},
     "output_type": "display_data"
    },
    {
     "data": {
      "text/markdown": [
       "$17^{272}=801\\ mod\\ 911$"
      ],
      "text/plain": [
       "<IPython.core.display.Markdown object>"
      ]
     },
     "metadata": {},
     "output_type": "display_data"
    },
    {
     "data": {
      "text/plain": [
       "272"
      ]
     },
     "execution_count": 3,
     "metadata": {},
     "output_type": "execute_result"
    }
   ],
   "source": [
    "discreteLog(17,801,911)"
   ]
  },
  {
   "cell_type": "code",
   "execution_count": 4,
   "id": "decreased-suffering",
   "metadata": {},
   "outputs": [
    {
     "name": "stdout",
     "output_type": "stream",
     "text": [
      "Finding all squares and their roots in F11\n"
     ]
    },
    {
     "data": {
      "text/plain": [
       "[2, 9]"
      ]
     },
     "execution_count": 4,
     "metadata": {},
     "output_type": "execute_result"
    }
   ],
   "source": [
    "allSquaresAndRoots(11)[48 % 11]"
   ]
  },
  {
   "cell_type": "code",
   "execution_count": 5,
   "id": "sweet-milwaukee",
   "metadata": {},
   "outputs": [
    {
     "name": "stdout",
     "output_type": "stream",
     "text": [
      "Finding all squares and their roots in F13\n"
     ]
    },
    {
     "data": {
      "text/plain": [
       "[3, 10]"
      ]
     },
     "execution_count": 5,
     "metadata": {},
     "output_type": "execute_result"
    }
   ],
   "source": [
    "allSquaresAndRoots(13)[48 % 13]"
   ]
  },
  {
   "cell_type": "code",
   "execution_count": 6,
   "id": "exotic-organizer",
   "metadata": {},
   "outputs": [
    {
     "data": {
      "text/plain": [
       "68"
      ]
     },
     "execution_count": 6,
     "metadata": {},
     "output_type": "execute_result"
    }
   ],
   "source": [
    "crtProblem(2,3,11,13)"
   ]
  },
  {
   "cell_type": "code",
   "execution_count": 7,
   "id": "looking-hours",
   "metadata": {},
   "outputs": [
    {
     "data": {
      "text/plain": [
       "101"
      ]
     },
     "execution_count": 7,
     "metadata": {},
     "output_type": "execute_result"
    }
   ],
   "source": [
    "crtProblem(2,10,11,13)"
   ]
  },
  {
   "cell_type": "code",
   "execution_count": 8,
   "id": "several-stopping",
   "metadata": {},
   "outputs": [
    {
     "data": {
      "text/plain": [
       "42"
      ]
     },
     "execution_count": 8,
     "metadata": {},
     "output_type": "execute_result"
    }
   ],
   "source": [
    "crtProblem(9,3,11,13)"
   ]
  },
  {
   "cell_type": "code",
   "execution_count": 9,
   "id": "lightweight-gardening",
   "metadata": {},
   "outputs": [
    {
     "data": {
      "text/plain": [
       "75"
      ]
     },
     "execution_count": 9,
     "metadata": {},
     "output_type": "execute_result"
    }
   ],
   "source": [
    "crtProblem(9,10,11,13)"
   ]
  },
  {
   "cell_type": "code",
   "execution_count": 10,
   "id": "victorian-teaching",
   "metadata": {},
   "outputs": [
    {
     "name": "stdout",
     "output_type": "stream",
     "text": [
      "Finding all squares and their roots in F143\n"
     ]
    },
    {
     "data": {
      "text/plain": [
       "[42, 68, 75, 101]"
      ]
     },
     "execution_count": 10,
     "metadata": {},
     "output_type": "execute_result"
    }
   ],
   "source": [
    "allSquaresAndRoots(143)[48]"
   ]
  },
  {
   "cell_type": "code",
   "execution_count": 11,
   "id": "anticipated-ballot",
   "metadata": {},
   "outputs": [
    {
     "name": "stdout",
     "output_type": "stream",
     "text": [
      "Finding all squares and their roots in F19\n"
     ]
    },
    {
     "data": {
      "text/plain": [
       "{0: [0],\n",
       " 1: [1, 18],\n",
       " 4: [2, 17],\n",
       " 9: [3, 16],\n",
       " 16: [4, 15],\n",
       " 6: [5, 14],\n",
       " 17: [6, 13],\n",
       " 11: [7, 12],\n",
       " 7: [8, 11],\n",
       " 5: [9, 10]}"
      ]
     },
     "execution_count": 11,
     "metadata": {},
     "output_type": "execute_result"
    }
   ],
   "source": [
    "allSquaresAndRoots(19)"
   ]
  },
  {
   "cell_type": "code",
   "execution_count": 18,
   "id": "accessory-egyptian",
   "metadata": {},
   "outputs": [
    {
     "name": "stdout",
     "output_type": "stream",
     "text": [
      "Finding all squares in F31\n",
      "Finding all squares and their roots in F31\n"
     ]
    },
    {
     "data": {
      "text/plain": [
       "True"
      ]
     },
     "execution_count": 18,
     "metadata": {},
     "output_type": "execute_result"
    }
   ],
   "source": [
    "p = 31\n",
    "len(allSquares(p)) == p//2 + 1"
   ]
  },
  {
   "cell_type": "code",
   "execution_count": null,
   "id": "modified-supplier",
   "metadata": {},
   "outputs": [],
   "source": []
  }
 ],
 "metadata": {
  "kernelspec": {
   "display_name": "Python 3",
   "language": "python",
   "name": "python3"
  },
  "language_info": {
   "codemirror_mode": {
    "name": "ipython",
    "version": 3
   },
   "file_extension": ".py",
   "mimetype": "text/x-python",
   "name": "python",
   "nbconvert_exporter": "python",
   "pygments_lexer": "ipython3",
   "version": "3.9.1"
  }
 },
 "nbformat": 4,
 "nbformat_minor": 5
}
