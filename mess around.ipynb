{
 "cells": [
  {
   "cell_type": "markdown",
   "id": "second-calculation",
   "metadata": {},
   "source": [
    "## Template"
   ]
  },
  {
   "cell_type": "markdown",
   "id": "extensive-wellington",
   "metadata": {},
   "source": [
    "#### Daniel Reynolds //"
   ]
  },
  {
   "cell_type": "markdown",
   "id": "third-nepal",
   "metadata": {},
   "source": [
    "Useful symbols: ⊗,⊕,$\\sqrt{10}$,$F_{base}$,$a^{⊗b}$"
   ]
  },
  {
   "cell_type": "code",
   "execution_count": 1,
   "id": "ruled-video",
   "metadata": {},
   "outputs": [],
   "source": [
    "%config IPCompleter.greedy=True\n",
    "from IPython.display import display, Markdown, Latex\n",
    "#imports\n",
    "from millerRabin import millerRabin\n",
    "from fermatFactor import fermatFactor\n",
    "from binom import binom\n",
    "from probalisticIsPrime import probalisticIsPrime\n",
    "from polyAdd import polyAdd\n",
    "from polyLongDiv import polyLongDiv\n",
    "from polyMult import polyMult\n",
    "from powmod import powMod, powmod\n",
    "from polyPowmod import polyPowmod\n",
    "from computeInverse import computeInverse\n",
    "from primitive import primitive, fieldPrimitive\n",
    "from getCycle import getCycle,getFieldCycle\n",
    "from sqrtMod import sqrtField\n",
    "from isASquare import isASquare\n",
    "from pFactor import pFactor\n",
    "from allPrimitives import allPrimitives\n",
    "from euler import euler\n",
    "from fermatTest import fermatTest\n",
    "from baseToPoly import baseToPoly\n",
    "from frobenius import frobeniusPowers,frobeniusSqrt,frobenius\n",
    "from trace import trace\n",
    "from quadraticEq import quadraticEq, quadraticNumSolutions\n",
    "from isASquare import isASquare, legendre, jacobi\n",
    "from allSquares import allSquares,allSquaresAndRoots\n",
    "from characteristic import characteristic\n",
    "from pFactor import pFactor\n",
    "from bitsToPoly import bitsToPoly\n",
    "from fieldDiv import fieldDiv\n",
    "from zeroKnowledgeProof import zeroKnowledgeProof\n",
    "from divMod import divMod\n",
    "from chineseRemainderTheorem import crt, crtJacobi, crtProblem\n",
    "from gcd import gcd\n",
    "from generateBigPrime import generateBigPrime\n",
    "from solovayStrassen import solovayStrassen\n",
    "from probalisticIsPrime import probalisticIsPrime\n",
    "from diffieHelmanSim import runDiffie\n",
    "from printNB import printex, printmd, printTable, boldify, boldifyList, latexify, latexifyList, printCrtTable\n",
    "from rootModP import rootModP\n",
    "from discreteLog import discreteLog"
   ]
  },
  {
   "cell_type": "code",
   "execution_count": 2,
   "id": "mighty-catholic",
   "metadata": {},
   "outputs": [
    {
     "name": "stdout",
     "output_type": "stream",
     "text": [
      "Finding roots mod P for a=5,p=41\n",
      "Case is 3\n",
      "Doing tonelli shanks algo!\n",
      "40 = 8 * 5\n",
      "q=5, e=3\n",
      "Found our nonsquare mod 41 to be n=17\n",
      "y=27, x=2, b=9, r=3\n",
      "m=2\n",
      "y=32, x=13, b=1, r=2\n"
     ]
    },
    {
     "data": {
      "text/markdown": [
       "$13$"
      ],
      "text/plain": [
       "<IPython.core.display.Markdown object>"
      ]
     },
     "metadata": {},
     "output_type": "display_data"
    }
   ],
   "source": [
    "printex(rootModP(5,41))"
   ]
  },
  {
   "cell_type": "code",
   "execution_count": 3,
   "id": "changed-polyester",
   "metadata": {
    "scrolled": true
   },
   "outputs": [
    {
     "name": "stdout",
     "output_type": "stream",
     "text": [
      "Finding all squares in F35\n",
      "Finding all squares and their roots in F35\n"
     ]
    },
    {
     "data": {
      "text/markdown": [
       "$[0, 1, 4, 9, 16, 25, 14, 29, 11, 30, 21, 15]$"
      ],
      "text/plain": [
       "<IPython.core.display.Markdown object>"
      ]
     },
     "metadata": {},
     "output_type": "display_data"
    }
   ],
   "source": [
    "printex(allSquares(35))"
   ]
  },
  {
   "cell_type": "code",
   "execution_count": 4,
   "id": "settled-manchester",
   "metadata": {},
   "outputs": [
    {
     "data": {
      "text/markdown": [
       "Finding $x$ for which $4^{x}=6\\ mod \\ 5$"
      ],
      "text/plain": [
       "<IPython.core.display.Markdown object>"
      ]
     },
     "metadata": {},
     "output_type": "display_data"
    },
    {
     "name": "stdout",
     "output_type": "stream",
     "text": [
      "Using brute force approach!\n"
     ]
    }
   ],
   "source": [
    "discreteLog(4,6,5)"
   ]
  },
  {
   "cell_type": "markdown",
   "id": "interracial-track",
   "metadata": {},
   "source": [
    "Quadratic residuosity (squares vs non-squares) - \n",
    "\n",
    "Euler - check if number is a square\n",
    "\n",
    "Legendre - check if number is square, doesnt need factoring\n",
    "\n",
    "Jacobi - check if number is square, doesnt need factoring\n",
    "\n",
    "Chinese Remainder - row is mod and column is mod\n",
    "\n",
    "Zero-knowledge - prove that you have a secret key without giving it away\n",
    "\n",
    "El-gamal - \n",
    "\n",
    "Ephemeral keys - keys that get thrown out once they are used\n",
    "\n",
    "Diffie Hellman - agree on shared sec\n",
    "\n",
    "pseudoprime - prime generated by our primality tests\n",
    "\n",
    "Solovay-Strassen - \n",
    "\n",
    "Discrete Logarithm problem (DLP)\n",
    "\n",
    "square roots mod p\n",
    "\n",
    "Baby-step Giant-step"
   ]
  },
  {
   "cell_type": "code",
   "execution_count": 5,
   "id": "tropical-microphone",
   "metadata": {},
   "outputs": [
    {
     "name": "stdout",
     "output_type": "stream",
     "text": [
      "5737384601\n",
      "5737384601\n"
     ]
    }
   ],
   "source": [
    "runDiffie()"
   ]
  },
  {
   "cell_type": "code",
   "execution_count": 6,
   "id": "black-tiger",
   "metadata": {
    "scrolled": false
   },
   "outputs": [
    {
     "data": {
      "text/markdown": [
       "Finding $x$ for which $17^{x}=801\\ mod \\ 911$"
      ],
      "text/plain": [
       "<IPython.core.display.Markdown object>"
      ]
     },
     "metadata": {},
     "output_type": "display_data"
    },
    {
     "name": "stdout",
     "output_type": "stream",
     "text": [
      "17 is a primitive element of 911, getting cycle of 17 mod 911\n",
      "doing bsgs algo\n",
      "n=31\n",
      "i=24, j=8\n"
     ]
    },
    {
     "data": {
      "text/markdown": [
       "|i|B[i]|G[i]|\n",
       "|:-:|:-:|:-:|\n",
       "|1|17|755|\n",
       "|2|289|491|\n",
       "|3|358|481|\n",
       "|4|620|384|\n",
       "|5|519|263|\n",
       "|6|624|638|\n",
       "|7|587|176|\n",
       "|8|869|**614**|\n",
       "|9|197|672|\n",
       "|10|616|688|\n",
       "|11|451|661|\n",
       "|12|379|308|\n",
       "|13|66|619|\n",
       "|14|211|265|\n",
       "|15|854|293|\n",
       "|16|853|18|\n",
       "|17|836|539|\n",
       "|18|547|400|\n",
       "|19|189|236|\n",
       "|20|480|285|\n",
       "|21|872|487|\n",
       "|22|248|260|\n",
       "|23|572|700|\n",
       "|24|**614**|413|\n",
       "|25|417|271|\n",
       "|26|712|169|\n",
       "|27|261|455|\n",
       "|28|793|314|\n",
       "|29|727|495|\n",
       "|30|516|702|\n",
       "|31|573|68|\n"
      ],
      "text/plain": [
       "<IPython.core.display.Markdown object>"
      ]
     },
     "metadata": {},
     "output_type": "display_data"
    },
    {
     "data": {
      "text/plain": [
       "272"
      ]
     },
     "execution_count": 6,
     "metadata": {},
     "output_type": "execute_result"
    }
   ],
   "source": [
    "discreteLog(17,801,911)"
   ]
  },
  {
   "cell_type": "code",
   "execution_count": 7,
   "id": "numerical-logistics",
   "metadata": {},
   "outputs": [
    {
     "data": {
      "text/plain": [
       "457"
      ]
     },
     "execution_count": 7,
     "metadata": {},
     "output_type": "execute_result"
    }
   ],
   "source": [
    "607 * 2 % 757"
   ]
  },
  {
   "cell_type": "code",
   "execution_count": null,
   "id": "julian-respondent",
   "metadata": {},
   "outputs": [],
   "source": []
  },
  {
   "cell_type": "code",
   "execution_count": null,
   "id": "endless-summer",
   "metadata": {},
   "outputs": [],
   "source": []
  }
 ],
 "metadata": {
  "kernelspec": {
   "display_name": "Python 3",
   "language": "python",
   "name": "python3"
  },
  "language_info": {
   "codemirror_mode": {
    "name": "ipython",
    "version": 3
   },
   "file_extension": ".py",
   "mimetype": "text/x-python",
   "name": "python",
   "nbconvert_exporter": "python",
   "pygments_lexer": "ipython3",
   "version": "3.7.9"
  }
 },
 "nbformat": 4,
 "nbformat_minor": 5
}
