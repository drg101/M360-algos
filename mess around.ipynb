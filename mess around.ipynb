{
 "cells": [
  {
   "cell_type": "markdown",
   "id": "second-calculation",
   "metadata": {},
   "source": [
    "## Template"
   ]
  },
  {
   "cell_type": "markdown",
   "id": "extensive-wellington",
   "metadata": {},
   "source": [
    "#### Daniel Reynolds //"
   ]
  },
  {
   "cell_type": "markdown",
   "id": "third-nepal",
   "metadata": {},
   "source": [
    "Useful symbols: ⊗,⊕,$\\sqrt{10}$,$F_{base}$,$a^{⊗b}$"
   ]
  },
  {
   "cell_type": "code",
   "execution_count": 1,
   "id": "ruled-video",
   "metadata": {},
   "outputs": [],
   "source": [
    "%config IPCompleter.greedy=True\n",
    "from IPython.display import display, Markdown, Latex\n",
    "#imports\n",
    "from millerRabin import millerRabin\n",
    "from fermatFactor import fermatFactor\n",
    "from binom import binom\n",
    "from probalisticIsPrime import probalisticIsPrime\n",
    "from polyAdd import polyAdd\n",
    "from polyLongDiv import polyLongDiv\n",
    "from polyMult import polyMult\n",
    "from powmod import powMod, powmod\n",
    "from polyPowmod import polyPowmod\n",
    "from computeInverse import computeInverse\n",
    "from primitive import primitive, fieldPrimitive\n",
    "from getCycle import getCycle,getFieldCycle\n",
    "from sqrtMod import sqrtField\n",
    "from isASquare import isASquare\n",
    "from pFactor import pFactor\n",
    "from allPrimitives import allPrimitives\n",
    "from euler import euler\n",
    "from fermatTest import fermatTest\n",
    "from baseToPoly import baseToPoly\n",
    "from frobenius import frobeniusPowers,frobeniusSqrt,frobenius\n",
    "from trace import trace\n",
    "from quadraticEq import quadraticEq, quadraticNumSolutions\n",
    "from isASquare import isASquare, legendre, jacobi\n",
    "from allSquares import allSquares,allSquaresAndRoots\n",
    "from characteristic import characteristic\n",
    "from pFactor import pFactor\n",
    "from bitsToPoly import bitsToPoly\n",
    "from fieldDiv import fieldDiv\n",
    "from zeroKnowledgeProof import zeroKnowledgeProof\n",
    "from divMod import divMod\n",
    "from chineseRemainderTheorem import crt, printCrtTable, crtJacobi, crtProblem\n",
    "from gcd import gcd\n",
    "from generateBigPrime import generateBigPrime\n",
    "from solovayStrassen import solovayStrassen\n",
    "from probalisticIsPrime import probalisticIsPrime\n",
    "from diffieHelmanSim import runDiffie"
   ]
  },
  {
   "cell_type": "code",
   "execution_count": 2,
   "id": "breathing-armor",
   "metadata": {},
   "outputs": [
    {
     "name": "stdout",
     "output_type": "stream",
     "text": [
      "Factors: {'3': 1, '7': 1, '127': 1}\n",
      "7916939152\n",
      "7916939152\n"
     ]
    }
   ],
   "source": [
    "runDiffie()"
   ]
  },
  {
   "cell_type": "code",
   "execution_count": null,
   "id": "criminal-gamma",
   "metadata": {},
   "outputs": [],
   "source": []
  },
  {
   "cell_type": "code",
   "execution_count": 3,
   "id": "developed-northeast",
   "metadata": {},
   "outputs": [
    {
     "name": "stdout",
     "output_type": "stream",
     "text": [
      "[116503419, 80489670, 87950580, 68056866]\n",
      "[113670765, 79693281, 44831262, 95091231]\n"
     ]
    }
   ],
   "source": [
    "N = 165222861\n",
    "g = 1293\n",
    "A = 26777709\n",
    "from random import randint\n",
    "keys = [randint(2,N) for _ in range(4)]\n",
    "encoding = [3011212,13050919,8130105,12]\n",
    "R = []\n",
    "T = []\n",
    "for i in range(4):\n",
    "    R.append(powmod(g,keys[i],N))\n",
    "    T.append((encoding[i] * powmod(A,keys[i],N)) % N)\n",
    "print(R)\n",
    "print(T)\n",
    "\n"
   ]
  },
  {
   "cell_type": "markdown",
   "id": "contrary-disco",
   "metadata": {},
   "source": [
    "we assume $p$ is prime and a within $Z_{p}*$ is square, $(\\frac{a}{p})=1$"
   ]
  },
  {
   "cell_type": "code",
   "execution_count": 4,
   "id": "centered-commonwealth",
   "metadata": {},
   "outputs": [
    {
     "name": "stdout",
     "output_type": "stream",
     "text": [
      "(17/41) => 2e * 1\n",
      "  (41/17) => 1c, doing a = 41 % 17\n",
      "    (7/17) => 2e * 1\n",
      "      (17/7) => 1c, doing a = 17 % 7\n",
      "        (3/7) => 2e * -1\n",
      "          (7/3) => 1c, doing a = 7 % 3\n",
      "            (1/3) => 2b = 1\n"
     ]
    },
    {
     "data": {
      "text/plain": [
       "-1"
      ]
     },
     "execution_count": 4,
     "metadata": {},
     "output_type": "execute_result"
    }
   ],
   "source": [
    "jacobi(17,41)"
   ]
  },
  {
   "cell_type": "code",
   "execution_count": 5,
   "id": "shaped-robertson",
   "metadata": {},
   "outputs": [],
   "source": [
    "p = 41\n",
    "n = 17\n",
    "q = 5\n",
    "e = 3\n",
    "\n",
    "a = 33\n",
    "\n",
    "y = powmod(n,q,p)\n",
    "x = powmod(a,(q+1)/2,p)\n",
    "b = powmod(a,q,p)\n",
    "r = e"
   ]
  },
  {
   "cell_type": "code",
   "execution_count": 6,
   "id": "incoming-haven",
   "metadata": {},
   "outputs": [
    {
     "data": {
      "text/plain": [
       "27"
      ]
     },
     "execution_count": 6,
     "metadata": {},
     "output_type": "execute_result"
    }
   ],
   "source": [
    "y"
   ]
  },
  {
   "cell_type": "code",
   "execution_count": 7,
   "id": "established-crown",
   "metadata": {},
   "outputs": [
    {
     "data": {
      "text/plain": [
       "21"
      ]
     },
     "execution_count": 7,
     "metadata": {},
     "output_type": "execute_result"
    }
   ],
   "source": [
    "x"
   ]
  },
  {
   "cell_type": "code",
   "execution_count": 8,
   "id": "likely-castle",
   "metadata": {},
   "outputs": [
    {
     "data": {
      "text/plain": [
       "32"
      ]
     },
     "execution_count": 8,
     "metadata": {},
     "output_type": "execute_result"
    }
   ],
   "source": [
    "b"
   ]
  },
  {
   "cell_type": "code",
   "execution_count": 9,
   "id": "according-protein",
   "metadata": {},
   "outputs": [
    {
     "data": {
      "text/plain": [
       "3"
      ]
     },
     "execution_count": 9,
     "metadata": {},
     "output_type": "execute_result"
    }
   ],
   "source": [
    "r"
   ]
  },
  {
   "cell_type": "code",
   "execution_count": 10,
   "id": "latin-marks",
   "metadata": {},
   "outputs": [
    {
     "data": {
      "text/plain": [
       "True"
      ]
     },
     "execution_count": 10,
     "metadata": {},
     "output_type": "execute_result"
    }
   ],
   "source": [
    "a*b % p == powmod(x,2,p)"
   ]
  },
  {
   "cell_type": "code",
   "execution_count": 11,
   "id": "hearing-appointment",
   "metadata": {},
   "outputs": [
    {
     "data": {
      "text/plain": [
       "True"
      ]
     },
     "execution_count": 11,
     "metadata": {},
     "output_type": "execute_result"
    }
   ],
   "source": [
    "powmod(y,2**(r-1),p) == -1 % p"
   ]
  },
  {
   "cell_type": "code",
   "execution_count": 12,
   "id": "treated-brass",
   "metadata": {},
   "outputs": [
    {
     "data": {
      "text/plain": [
       "True"
      ]
     },
     "execution_count": 12,
     "metadata": {},
     "output_type": "execute_result"
    }
   ],
   "source": [
    "powmod(b,2**(r-1),p) == 1"
   ]
  },
  {
   "cell_type": "code",
   "execution_count": 13,
   "id": "important-shopping",
   "metadata": {},
   "outputs": [],
   "source": [
    "m = 1\n",
    "yP = powmod(y,2**(r-m),p)\n",
    "xP = x*powmod(y,2**(r-m-1),p) % p\n",
    "bP = b*powmod(y,2**(r-m),p) % p\n",
    "r = m"
   ]
  },
  {
   "cell_type": "code",
   "execution_count": 14,
   "id": "documented-ozone",
   "metadata": {},
   "outputs": [
    {
     "data": {
      "text/plain": [
       "27"
      ]
     },
     "execution_count": 14,
     "metadata": {},
     "output_type": "execute_result"
    }
   ],
   "source": [
    "y"
   ]
  },
  {
   "cell_type": "code",
   "execution_count": 15,
   "id": "functional-observer",
   "metadata": {},
   "outputs": [
    {
     "data": {
      "text/plain": [
       "40"
      ]
     },
     "execution_count": 15,
     "metadata": {},
     "output_type": "execute_result"
    }
   ],
   "source": [
    "yP"
   ]
  },
  {
   "cell_type": "code",
   "execution_count": null,
   "id": "incorporated-dallas",
   "metadata": {},
   "outputs": [],
   "source": []
  }
 ],
 "metadata": {
  "kernelspec": {
   "display_name": "Python 3",
   "language": "python",
   "name": "python3"
  },
  "language_info": {
   "codemirror_mode": {
    "name": "ipython",
    "version": 3
   },
   "file_extension": ".py",
   "mimetype": "text/x-python",
   "name": "python",
   "nbconvert_exporter": "python",
   "pygments_lexer": "ipython3",
   "version": "3.7.9"
  }
 },
 "nbformat": 4,
 "nbformat_minor": 5
}
