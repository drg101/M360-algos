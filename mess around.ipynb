{
 "cells": [
  {
   "cell_type": "markdown",
   "id": "second-calculation",
   "metadata": {},
   "source": [
    "## Template"
   ]
  },
  {
   "cell_type": "markdown",
   "id": "extensive-wellington",
   "metadata": {},
   "source": [
    "#### Daniel Reynolds //"
   ]
  },
  {
   "cell_type": "markdown",
   "id": "third-nepal",
   "metadata": {},
   "source": [
    "Useful symbols: ⊗,⊕,$\\sqrt{10}$,$F_{base}$,$a^{⊗b}$"
   ]
  },
  {
   "cell_type": "code",
   "execution_count": 1,
   "id": "ruled-video",
   "metadata": {},
   "outputs": [],
   "source": [
    "%config IPCompleter.greedy=True\n",
    "from IPython.display import display, Markdown, Latex\n",
    "#imports\n",
    "from millerRabin import millerRabin\n",
    "from fermatFactor import fermatFactor\n",
    "from binom import binom\n",
    "from probalisticIsPrime import probalisticIsPrime\n",
    "from polyAdd import polyAdd\n",
    "from polyLongDiv import polyLongDiv\n",
    "from polyMult import polyMult\n",
    "from powmod import powMod, powmod\n",
    "from polyPowmod import polyPowmod\n",
    "from computeInverse import computeInverse\n",
    "from primitive import primitive, fieldPrimitive\n",
    "from getCycle import getCycle,getFieldCycle\n",
    "from sqrtMod import sqrtField\n",
    "from isASquare import isASquare\n",
    "from pFactor import pFactor\n",
    "from allPrimitives import allPrimitives\n",
    "from euler import euler\n",
    "from fermatTest import fermatTest\n",
    "from baseToPoly import baseToPoly\n",
    "from frobenius import frobeniusPowers,frobeniusSqrt,frobenius\n",
    "from trace import trace\n",
    "from quadraticEq import quadraticEq, quadraticNumSolutions\n",
    "from isASquare import isASquare, legendre, jacobi\n",
    "from allSquares import allSquares,allSquaresAndRoots\n",
    "from characteristic import characteristic\n",
    "from pFactor import pFactor\n",
    "from bitsToPoly import bitsToPoly\n",
    "from fieldDiv import fieldDiv\n",
    "from zeroKnowledgeProof import zeroKnowledgeProof\n",
    "from divMod import divMod\n",
    "from chineseRemainderTheorem import crt, printCrtTable, crtJacobi, crtProblem\n",
    "from gcd import gcd\n",
    "from generateBigPrime import generateBigPrime\n",
    "from solovayStrassen import solovayStrassen\n",
    "from probalisticIsPrime import probalisticIsPrime\n",
    "from diffieHelmanSim import runDiffie\n",
    "from printTable import printTable"
   ]
  },
  {
   "cell_type": "markdown",
   "id": "contrary-disco",
   "metadata": {},
   "source": [
    "we assume $p$ is prime and a within $Z_{p}*$ is square, $(\\frac{a}{p})=1$"
   ]
  },
  {
   "cell_type": "code",
   "execution_count": 2,
   "id": "soviet-footwear",
   "metadata": {},
   "outputs": [
    {
     "data": {
      "text/markdown": [
       "|p/q|$0$|$1$|$2$|$3$|$4$|\n",
       "|:-:|:-:|:-:|:-:|:-:|:-:|\n",
       "|$0$|$0$|$21$|$7$|$28$|$14$|\n",
       "|$1$|$15$|$1$|$22$|$8$|$29$|\n",
       "|$2$|$30$|$16$|$2$|$23$|$9$|\n",
       "|$3$|$10$|$31$|$17$|$3$|$24$|\n",
       "|$4$|$25$|$11$|$32$|$18$|$4$|\n",
       "|$5$|$5$|$26$|$12$|$33$|$19$|\n",
       "|$6$|$20$|$6$|$27$|$13$|$34$|"
      ],
      "text/plain": [
       "<IPython.core.display.Markdown object>"
      ]
     },
     "metadata": {},
     "output_type": "display_data"
    }
   ],
   "source": [
    "printCrtTable(crt(7,5))"
   ]
  },
  {
   "cell_type": "code",
   "execution_count": 3,
   "id": "behavioral-priest",
   "metadata": {},
   "outputs": [
    {
     "data": {
      "text/markdown": [
       "|$round$|$bi$|$names$|\n",
       "|:-:|:-:|:-:|\n",
       "|$1$|$5$|$1$|\n",
       "|$2$|$6$|$3$|\n",
       "|$3$|$7$|$69$|\n",
       "|$4$|$8$|$420$|\n"
      ],
      "text/plain": [
       "<IPython.core.display.Markdown object>"
      ]
     },
     "metadata": {},
     "output_type": "display_data"
    }
   ],
   "source": [
    "e = {\n",
    "    \"round\": [1,2,3,4],\n",
    "    \"bi\": [5,6,7,8],\n",
    "    \"names\": [\"1\",\"3\",\"69\",\"420\"]\n",
    "}\n",
    "\n",
    "printTable(e)"
   ]
  },
  {
   "cell_type": "code",
   "execution_count": null,
   "id": "homeless-idaho",
   "metadata": {},
   "outputs": [],
   "source": []
  }
 ],
 "metadata": {
  "kernelspec": {
   "display_name": "Python 3",
   "language": "python",
   "name": "python3"
  },
  "language_info": {
   "codemirror_mode": {
    "name": "ipython",
    "version": 3
   },
   "file_extension": ".py",
   "mimetype": "text/x-python",
   "name": "python",
   "nbconvert_exporter": "python",
   "pygments_lexer": "ipython3",
   "version": "3.9.1"
  }
 },
 "nbformat": 4,
 "nbformat_minor": 5
}
