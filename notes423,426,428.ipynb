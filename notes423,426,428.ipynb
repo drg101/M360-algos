{
 "cells": [
  {
   "cell_type": "markdown",
   "id": "second-calculation",
   "metadata": {},
   "source": [
    "## Notes 4/23, 4/26"
   ]
  },
  {
   "cell_type": "markdown",
   "id": "extensive-wellington",
   "metadata": {},
   "source": [
    "#### Daniel Reynolds //"
   ]
  },
  {
   "cell_type": "markdown",
   "id": "third-nepal",
   "metadata": {},
   "source": [
    "Useful symbols: ⊗,⊕,$\\sqrt{10}$,$F_{base}$,$a^{⊗b}$"
   ]
  },
  {
   "cell_type": "code",
   "execution_count": 1,
   "id": "ruled-video",
   "metadata": {},
   "outputs": [],
   "source": [
    "%config IPCompleter.greedy=True\n",
    "from IPython.display import display, Markdown, Latex\n",
    "#imports\n",
    "from millerRabin import millerRabin\n",
    "from fermatFactor import fermatFactor\n",
    "from binom import binom\n",
    "from probalisticIsPrime import probalisticIsPrime\n",
    "from polyAdd import polyAdd\n",
    "from polyLongDiv import polyLongDiv\n",
    "from polyMult import polyMult\n",
    "from powmod import powMod, powmod\n",
    "from polyPowmod import polyPowmod\n",
    "from computeInverse import computeInverse\n",
    "from primitive import primitive, fieldPrimitive\n",
    "from getCycle import getCycle,getFieldCycle\n",
    "from sqrtMod import sqrtField\n",
    "from isASquare import isASquare\n",
    "from pFactor import pFactor\n",
    "from allPrimitives import allPrimitives\n",
    "from euler import euler\n",
    "from fermatTest import fermatTest\n",
    "from baseToPoly import baseToPoly\n",
    "from frobenius import frobeniusPowers,frobeniusSqrt,frobenius\n",
    "from trace import trace\n",
    "from quadraticEq import quadraticEq, quadraticNumSolutions\n",
    "from isASquare import isASquare, legendre, jacobi\n",
    "from allSquares import allSquares,allSquaresAndRoots\n",
    "from characteristic import characteristic\n",
    "from pFactor import pFactor\n",
    "from bitsToPoly import bitsToPoly\n",
    "from fieldDiv import fieldDiv\n",
    "from zeroKnowledgeProof import zeroKnowledgeProof\n",
    "from divMod import divMod\n",
    "from chineseRemainderTheorem import crt, crtJacobi, crtProblem\n",
    "from gcd import gcd\n",
    "from generateBigPrime import generateBigPrime\n",
    "from generatePrimes import sieve\n",
    "from solovayStrassen import solovayStrassen\n",
    "from probalisticIsPrime import probalisticIsPrime\n",
    "from diffieHelmanSim import runDiffie\n",
    "from printNB import printex, printmd, printTable, boldify, boldifyList, latexify, latexifyList, printCrtTable\n",
    "from rootModP import rootModP\n",
    "from discreteLog import discreteLog, bsgs\n",
    "from eulerCriterion import eulerCriterion"
   ]
  },
  {
   "cell_type": "markdown",
   "id": "raising-prize",
   "metadata": {},
   "source": [
    "DLP"
   ]
  },
  {
   "cell_type": "markdown",
   "id": "false-tribune",
   "metadata": {},
   "source": [
    "Normal LP is continuous, easy to solve, DLP is hard to solve cause it crazy"
   ]
  },
  {
   "cell_type": "markdown",
   "id": "palestinian-gibson",
   "metadata": {},
   "source": [
    "sMOOTH Numbers"
   ]
  },
  {
   "cell_type": "markdown",
   "id": "selected-mechanism",
   "metadata": {},
   "source": [
    "Use sieve to find small primes"
   ]
  },
  {
   "cell_type": "code",
   "execution_count": 2,
   "id": "christian-andrew",
   "metadata": {},
   "outputs": [
    {
     "data": {
      "text/plain": [
       "[2, 3, 5, 7]"
      ]
     },
     "execution_count": 2,
     "metadata": {},
     "output_type": "execute_result"
    }
   ],
   "source": [
    "sieve(10)"
   ]
  },
  {
   "cell_type": "markdown",
   "id": "exposed-mouth",
   "metadata": {},
   "source": [
    "Pohlig hellman"
   ]
  },
  {
   "cell_type": "code",
   "execution_count": 3,
   "id": "loving-species",
   "metadata": {},
   "outputs": [
    {
     "data": {
      "text/plain": [
       "{'2': 79, '3': 1}"
      ]
     },
     "execution_count": 3,
     "metadata": {},
     "output_type": "execute_result"
    }
   ],
   "source": [
    "pFactor(generateBigPrime(40)-1)"
   ]
  },
  {
   "cell_type": "markdown",
   "id": "contained-basic",
   "metadata": {},
   "source": [
    "we replace $y=a^{x}\\ mod\\ p$"
   ]
  },
  {
   "cell_type": "markdown",
   "id": "cheap-hello",
   "metadata": {},
   "source": [
    "with r smaller problems: $y_{i}=a_{i}^{x_{i}}\\ mod\\ p$"
   ]
  },
  {
   "cell_type": "markdown",
   "id": "banner-blanket",
   "metadata": {},
   "source": [
    "Elliptic curves n shit!"
   ]
  },
  {
   "cell_type": "markdown",
   "id": "under-visiting",
   "metadata": {},
   "source": []
  },
  {
   "cell_type": "code",
   "execution_count": 23,
   "id": "consecutive-bride",
   "metadata": {},
   "outputs": [],
   "source": [
    "def antiprimes(n):\n",
    "    tab = [x for x in range(2,n+1)]\n",
    "    safe = [[] for _ in range(2,n+1)]\n",
    "    for i in range(len(tab)):\n",
    "        for multiple in range(i+tab[i],len(safe),tab[i]):\n",
    "            safe[multiple].append(multiple)\n",
    "    return safe"
   ]
  },
  {
   "cell_type": "markdown",
   "id": "identical-hybrid",
   "metadata": {},
   "source": [
    "    Finite set mod p"
   ]
  },
  {
   "cell_type": "markdown",
   "id": "charitable-banks",
   "metadata": {},
   "source": [
    "$y^{2} = x^3 + 5x + 7\\ mod\\ p$ "
   ]
  },
  {
   "cell_type": "markdown",
   "id": "dental-plasma",
   "metadata": {},
   "source": [
    "given $Q,P$ with $Q=nP$, determine $n$"
   ]
  },
  {
   "cell_type": "markdown",
   "id": "enormous-integer",
   "metadata": {},
   "source": [
    "$y^2 = x^3 + ax + b$"
   ]
  },
  {
   "cell_type": "code",
   "execution_count": 2,
   "id": "julian-designer",
   "metadata": {},
   "outputs": [],
   "source": [
    "def ecAdd(P,Q,p):\n",
    "    landa = (Q[1] - P[1]) / (Q[0] - P[0])\n",
    "    xR = (landa**2 - P[0] - Q[0]) % p\n",
    "    yR = (landa*(P[0] - xR) - P[1]) % p\n",
    "    return (xR,yR)\n",
    "\n",
    "def ecMultiple(P,Q,n,a,v,p):\n",
    "    if n == 0:\n",
    "        return Q\n",
    "    if n % 2 == 0:\n",
    "        return ecMultiple(ecAdd(P,P,p),Q,n//2,b,c,p)\n",
    "    else:\n",
    "        return ecMultiple(P,ecAdd(P,Q,p),n-1,b,c,p)"
   ]
  },
  {
   "cell_type": "code",
   "execution_count": null,
   "id": "parliamentary-given",
   "metadata": {},
   "outputs": [],
   "source": [
    "ecMutiple()"
   ]
  }
 ],
 "metadata": {
  "kernelspec": {
   "display_name": "Python 3",
   "language": "python",
   "name": "python3"
  },
  "language_info": {
   "codemirror_mode": {
    "name": "ipython",
    "version": 3
   },
   "file_extension": ".py",
   "mimetype": "text/x-python",
   "name": "python",
   "nbconvert_exporter": "python",
   "pygments_lexer": "ipython3",
   "version": "3.9.1"
  }
 },
 "nbformat": 4,
 "nbformat_minor": 5
}
