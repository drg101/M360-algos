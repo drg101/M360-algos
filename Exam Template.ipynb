{
 "cells": [
  {
   "cell_type": "markdown",
   "id": "second-calculation",
   "metadata": {},
   "source": [
    "## Template"
   ]
  },
  {
   "cell_type": "markdown",
   "id": "extensive-wellington",
   "metadata": {},
   "source": [
    "#### Daniel Reynolds //"
   ]
  },
  {
   "cell_type": "markdown",
   "id": "third-nepal",
   "metadata": {},
   "source": [
    "Useful symbols: ⊗,⊕,$\\sqrt{10}$,$F_{base}$,$a^{⊗b}$"
   ]
  },
  {
   "cell_type": "code",
   "execution_count": 1,
   "id": "ruled-video",
   "metadata": {},
   "outputs": [],
   "source": [
    "%config IPCompleter.greedy=True\n",
    "#imports\n",
    "from millerRabin import millerRabin\n",
    "from fermatFactor import fermatFactor\n",
    "from binom import binom\n",
    "from probalisticIsPrime import probalisticIsPrime\n",
    "from polyAdd import polyAdd\n",
    "from polyLongDiv import polyLongDiv\n",
    "from polyMult import polyMult\n",
    "from powmod import powMod\n",
    "from polyPowmod import polyPowmod\n",
    "from computeInverse import computeInverse\n",
    "from primitive import primitive, fieldPrimitive\n",
    "from getCycle import getCycle,getFieldCycle\n",
    "from sqrtMod import sqrtField\n",
    "from isASquare import isASquare\n",
    "from pFactor import pFactor\n",
    "from allPrimitives import allPrimitives\n",
    "from euler import euler\n",
    "from fermatTest import fermatTest\n",
    "from baseToPoly import baseToPoly\n",
    "from frobenius import frobeniusPowers,frobeniusSqrt,frobenius\n",
    "from trace import trace\n",
    "from quadraticEq import quadraticEq, quadraticNumSolutions\n",
    "from isASquare import isASquare\n",
    "from allSquares import allSquares,allSquaresAndRoots\n",
    "from characteristic import characteristic\n",
    "from pFactor import pFactor"
   ]
  },
  {
   "cell_type": "code",
   "execution_count": null,
   "id": "forbidden-ordinance",
   "metadata": {},
   "outputs": [],
   "source": []
  }
 ],
 "metadata": {
  "kernelspec": {
   "display_name": "Python 3",
   "language": "python",
   "name": "python3"
  },
  "language_info": {
   "codemirror_mode": {
    "name": "ipython",
    "version": 3
   },
   "file_extension": ".py",
   "mimetype": "text/x-python",
   "name": "python",
   "nbconvert_exporter": "python",
   "pygments_lexer": "ipython3",
   "version": "3.9.1"
  }
 },
 "nbformat": 4,
 "nbformat_minor": 5
}
