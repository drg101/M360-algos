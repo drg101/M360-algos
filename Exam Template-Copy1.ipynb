{
 "cells": [
  {
   "cell_type": "markdown",
   "id": "second-calculation",
   "metadata": {},
   "source": [
    "## Template"
   ]
  },
  {
   "cell_type": "markdown",
   "id": "extensive-wellington",
   "metadata": {},
   "source": [
    "#### Daniel Reynolds //"
   ]
  },
  {
   "cell_type": "markdown",
   "id": "third-nepal",
   "metadata": {},
   "source": [
    "Useful symbols: ⊗,⊕,$\\sqrt{10}$,$F_{base}$,$a^{⊗b}$"
   ]
  },
  {
   "cell_type": "code",
   "execution_count": 1,
   "id": "ruled-video",
   "metadata": {},
   "outputs": [],
   "source": [
    "%config IPCompleter.greedy=True\n",
    "#imports\n",
    "from millerRabin import millerRabin\n",
    "from fermatFactor import fermatFactor\n",
    "from binom import binom\n",
    "from probalisticIsPrime import probalisticIsPrime\n",
    "from polyAdd import polyAdd\n",
    "from polyLongDiv import polyLongDiv\n",
    "from polyMult import polyMult\n",
    "from powmod import powMod\n",
    "from polyPowmod import polyPowmod\n",
    "from computeInverse import computeInverse\n",
    "from primitive import primitive, fieldPrimitive\n",
    "from getCycle import getCycle,getFieldCycle\n",
    "from sqrtMod import sqrtField\n",
    "from isASquare import isASquare\n",
    "from pFactor import pFactor\n",
    "from allPrimitives import allPrimitives\n",
    "from euler import euler\n",
    "from fermatTest import fermatTest\n",
    "from baseToPoly import baseToPoly\n",
    "from frobenius import frobeniusPowers,frobeniusSqrt,frobenius\n",
    "from trace import trace\n",
    "from quadraticEq import quadraticEq, quadraticNumSolutions\n",
    "from isASquare import isASquare\n",
    "from allSquares import allSquares,allSquaresAndRoots\n",
    "from characteristic import characteristic\n",
    "from pFactor import pFactor"
   ]
  },
  {
   "cell_type": "code",
   "execution_count": 2,
   "id": "forbidden-ordinance",
   "metadata": {},
   "outputs": [
    {
     "data": {
      "text/plain": [
       "{'7879': 1, '7901': 1}"
      ]
     },
     "execution_count": 2,
     "metadata": {},
     "output_type": "execute_result"
    }
   ],
   "source": [
    "fermatFactor(62251979)"
   ]
  },
  {
   "cell_type": "markdown",
   "id": "referenced-saturn",
   "metadata": {},
   "source": [
    "17⊗12"
   ]
  },
  {
   "cell_type": "code",
   "execution_count": 3,
   "id": "employed-mongolia",
   "metadata": {},
   "outputs": [
    {
     "name": "stdout",
     "output_type": "stream",
     "text": [
      "Frobenius pows of 16 are [1, 2, 4, 8]\n"
     ]
    },
    {
     "data": {
      "text/plain": [
       "[1, 2, 4, 8]"
      ]
     },
     "execution_count": 3,
     "metadata": {},
     "output_type": "execute_result"
    }
   ],
   "source": [
    "frobeniusPowers(16)"
   ]
  },
  {
   "cell_type": "code",
   "execution_count": 4,
   "id": "finite-wonder",
   "metadata": {},
   "outputs": [
    {
     "name": "stdout",
     "output_type": "stream",
     "text": [
      "Frobenius pows of 16 are [1, 2, 4, 8]\n"
     ]
    },
    {
     "data": {
      "text/plain": [
       "8"
      ]
     },
     "execution_count": 4,
     "metadata": {},
     "output_type": "execute_result"
    }
   ],
   "source": [
    "frobeniusSqrt(16)"
   ]
  },
  {
   "cell_type": "code",
   "execution_count": 5,
   "id": "therapeutic-stockholm",
   "metadata": {},
   "outputs": [
    {
     "data": {
      "text/plain": [
       "16"
      ]
     },
     "execution_count": 5,
     "metadata": {},
     "output_type": "execute_result"
    }
   ],
   "source": [
    "frobenius(16)"
   ]
  },
  {
   "cell_type": "code",
   "execution_count": 6,
   "id": "basic-enzyme",
   "metadata": {},
   "outputs": [
    {
     "name": "stdout",
     "output_type": "stream",
     "text": [
      "Tr(10) in F16\n",
      "Frobenius pows of 16 are [1, 2, 4, 8]\n",
      "10^(x)1 (+) 10^(x)2 (+) 10^(x)4 (+) 10^(x)8 (+) = 0\n"
     ]
    },
    {
     "data": {
      "text/plain": [
       "0"
      ]
     },
     "execution_count": 6,
     "metadata": {},
     "output_type": "execute_result"
    }
   ],
   "source": [
    "trace(10,16)"
   ]
  },
  {
   "cell_type": "code",
   "execution_count": 7,
   "id": "indoor-knife",
   "metadata": {},
   "outputs": [
    {
     "name": "stdout",
     "output_type": "stream",
     "text": [
      "-- primitive(16) --\n",
      "Factors: {'3': 1, '5': 1}\n",
      "Trying a = 2\n",
      "Testing against factor 3\n",
      "powMod(2, 15 / 3, 1, 16) != 1\n",
      "Testing against factor 5\n",
      "powMod(2, 15 / 5, 1, 16) != 1\n",
      "Primitive element = 2\n"
     ]
    },
    {
     "data": {
      "text/plain": [
       "2"
      ]
     },
     "execution_count": 7,
     "metadata": {},
     "output_type": "execute_result"
    }
   ],
   "source": [
    "primitive(16)"
   ]
  },
  {
   "cell_type": "code",
   "execution_count": 8,
   "id": "powerful-taste",
   "metadata": {},
   "outputs": [
    {
     "data": {
      "text/plain": [
       "[2, 4, 8, 9, 11, 15, 7, 14, 5, 10, 13, 3, 6, 12, 1]"
      ]
     },
     "execution_count": 8,
     "metadata": {},
     "output_type": "execute_result"
    }
   ],
   "source": [
    "getFieldCycle(2,16)"
   ]
  },
  {
   "cell_type": "code",
   "execution_count": 9,
   "id": "democratic-matter",
   "metadata": {},
   "outputs": [
    {
     "name": "stdout",
     "output_type": "stream",
     "text": [
      "Finding all squares and their roots in F13\n"
     ]
    },
    {
     "data": {
      "text/plain": [
       "{0: [0], 1: [1, 12], 4: [2, 11], 9: [3, 10], 3: [4, 9], 12: [5, 8], 10: [6, 7]}"
      ]
     },
     "execution_count": 9,
     "metadata": {},
     "output_type": "execute_result"
    }
   ],
   "source": [
    "allSquaresAndRoots(13)"
   ]
  },
  {
   "cell_type": "code",
   "execution_count": 10,
   "id": "amazing-disposal",
   "metadata": {},
   "outputs": [
    {
     "name": "stdout",
     "output_type": "stream",
     "text": [
      "solving 1x^2 + 15x + 14 = 0 in F16\n",
      "Finding Tr(ac / b^2)\n",
      "ac = 14\n",
      "bInv = 5\n",
      "bInvSq = 8\n",
      "Tr(13) in F16\n",
      "Frobenius pows of 16 are [1, 2, 4, 8]\n",
      "13^(x)1 (+) 13^(x)2 (+) 13^(x)4 (+) 13^(x)8 (+) = 0\n",
      "Tr = 0\n",
      "There is 2 solutions.\n",
      "x = by/a = (15y)\n",
      "1(15y)^2 + 15(15y) + 14 = 0\n",
      "1(15y)^2 + 15(15y) = 14\n",
      "3y^2 + 3y = 14\n",
      "3(y^2 + y) = 14\n",
      "y(y+1) = 14/3 = 13\n",
      "now to find a y * y+1 which = 13\n",
      "Found y = 4\n",
      "Returning (15 * 4) and (15 * 5)\n",
      "Solutions = (14, 1)\n"
     ]
    },
    {
     "data": {
      "text/plain": [
       "(14, 1)"
      ]
     },
     "execution_count": 10,
     "metadata": {},
     "output_type": "execute_result"
    }
   ],
   "source": [
    "quadraticEq(1,15,14,16)"
   ]
  },
  {
   "cell_type": "code",
   "execution_count": 11,
   "id": "solved-intermediate",
   "metadata": {},
   "outputs": [
    {
     "data": {
      "text/plain": [
       "1"
      ]
     },
     "execution_count": 11,
     "metadata": {},
     "output_type": "execute_result"
    }
   ],
   "source": [
    "quadraticNumSolutions(1,0,14,16)"
   ]
  },
  {
   "cell_type": "code",
   "execution_count": 12,
   "id": "bacterial-schema",
   "metadata": {},
   "outputs": [
    {
     "name": "stdout",
     "output_type": "stream",
     "text": [
      "Finding Tr(ac / b^2)\n",
      "ac = 14\n",
      "bInv = 5\n",
      "bInvSq = 8\n",
      "Tr(13) in F16\n",
      "Frobenius pows of 16 are [1, 2, 4, 8]\n",
      "13^(x)1 (+) 13^(x)2 (+) 13^(x)4 (+) 13^(x)8 (+) = 0\n",
      "Tr = 0\n"
     ]
    },
    {
     "data": {
      "text/plain": [
       "2"
      ]
     },
     "execution_count": 12,
     "metadata": {},
     "output_type": "execute_result"
    }
   ],
   "source": [
    "quadraticNumSolutions(1,15,14,16)"
   ]
  },
  {
   "cell_type": "code",
   "execution_count": null,
   "id": "white-blackberry",
   "metadata": {},
   "outputs": [],
   "source": []
  }
 ],
 "metadata": {
  "kernelspec": {
   "display_name": "Python 3",
   "language": "python",
   "name": "python3"
  },
  "language_info": {
   "codemirror_mode": {
    "name": "ipython",
    "version": 3
   },
   "file_extension": ".py",
   "mimetype": "text/x-python",
   "name": "python",
   "nbconvert_exporter": "python",
   "pygments_lexer": "ipython3",
   "version": "3.9.1"
  }
 },
 "nbformat": 4,
 "nbformat_minor": 5
}
