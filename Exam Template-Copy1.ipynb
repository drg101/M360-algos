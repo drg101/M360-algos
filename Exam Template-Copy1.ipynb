{
 "cells": [
  {
   "cell_type": "markdown",
   "id": "second-calculation",
   "metadata": {},
   "source": [
    "## Template"
   ]
  },
  {
   "cell_type": "markdown",
   "id": "extensive-wellington",
   "metadata": {},
   "source": [
    "#### Daniel Reynolds //"
   ]
  },
  {
   "cell_type": "markdown",
   "id": "third-nepal",
   "metadata": {},
   "source": [
    "Useful symbols: ⊗,⊕,$\\sqrt{10}$,$F_{base}$,$a^{⊗b}$"
   ]
  },
  {
   "cell_type": "code",
   "execution_count": 1,
   "id": "ruled-video",
   "metadata": {},
   "outputs": [],
   "source": [
    "%config IPCompleter.greedy=True\n",
    "#imports\n",
    "from millerRabin import millerRabin\n",
    "from fermatFactor import fermatFactor\n",
    "from binom import binom\n",
    "from probalisticIsPrime import probalisticIsPrime\n",
    "from polyAdd import polyAdd\n",
    "from polyLongDiv import polyLongDiv\n",
    "from polyMult import polyMult\n",
    "from powmod import powMod\n",
    "from polyPowmod import polyPowmod\n",
    "from computeInverse import computeInverse\n",
    "from primitive import primitive\n",
    "from primitive import fieldPrimitive\n",
    "from getCycle import getCycle\n",
    "from getCycle import getFieldCycle\n",
    "from sqrtMod import sqrtField\n",
    "from isASquare import isASquare\n",
    "from pFactor import pFactor\n",
    "from allPrimitives import allPrimitives\n",
    "from euler import euler\n",
    "from fermatTest import fermatTest\n",
    "from baseToPoly import baseToPoly\n",
    "from frobenius import frobeniusPowers\n",
    "from frobenius import frobeniusMax\n",
    "from trace import trace\n",
    "from quadraticEq import quadraticEq\n",
    "from quadraticEq import quadraticNumSolutions"
   ]
  },
  {
   "cell_type": "code",
   "execution_count": 2,
   "id": "forbidden-ordinance",
   "metadata": {},
   "outputs": [
    {
     "name": "stdout",
     "output_type": "stream",
     "text": [
      "Found @y=11, 7890\n",
      "Factors of 62251979 are {'7879': 1, '7901': 1}\n"
     ]
    },
    {
     "data": {
      "text/plain": [
       "{'7879': 1, '7901': 1}"
      ]
     },
     "execution_count": 2,
     "metadata": {},
     "output_type": "execute_result"
    }
   ],
   "source": [
    "fermatFactor(62251979)"
   ]
  },
  {
   "cell_type": "markdown",
   "id": "exempt-paper",
   "metadata": {},
   "source": [
    "17⊗12"
   ]
  },
  {
   "cell_type": "code",
   "execution_count": 3,
   "id": "wooden-conviction",
   "metadata": {},
   "outputs": [
    {
     "name": "stdout",
     "output_type": "stream",
     "text": [
      "Finding 17 * 12 mod (x^4 + x^1 + 1)\n",
      "17 * 12 = \n",
      "10001 * 1100 = \n",
      "#########################\n",
      "                 10001000\n",
      "                  1000100\n",
      "#########################\n",
      "                 11001100\n",
      "\n",
      "11001100 / 10011 = \n",
      "#########################\n",
      "                 11001100\n",
      "                 10011000\n",
      "                  1010100\n",
      "#########################\n",
      "                  1010100\n",
      "                  1001100\n",
      "                    11000\n",
      "#########################\n",
      "                    11000\n",
      "                    10011\n",
      "                     1011\n",
      "#########################\n"
     ]
    },
    {
     "data": {
      "text/plain": [
       "11"
      ]
     },
     "execution_count": 3,
     "metadata": {},
     "output_type": "execute_result"
    }
   ],
   "source": [
    "polyMult(17,12,\"10011\",True)"
   ]
  },
  {
   "cell_type": "code",
   "execution_count": 4,
   "id": "premium-wheat",
   "metadata": {},
   "outputs": [
    {
     "name": "stdout",
     "output_type": "stream",
     "text": [
      "Finding 17 + 12 mod (x^4 + x^1 + 1)\n",
      "17 + 12 = \n",
      "10001 + 1100 = \n",
      "                    11101\n",
      "\n",
      "11101 / 10011 = \n",
      "#########################\n",
      "                    11101\n",
      "                    10011\n",
      "                     1110\n",
      "#########################\n"
     ]
    },
    {
     "data": {
      "text/plain": [
       "14"
      ]
     },
     "execution_count": 4,
     "metadata": {},
     "output_type": "execute_result"
    }
   ],
   "source": [
    "polyAdd(17,12,\"10011\",True)"
   ]
  },
  {
   "cell_type": "code",
   "execution_count": 5,
   "id": "middle-orientation",
   "metadata": {},
   "outputs": [
    {
     "data": {
      "text/plain": [
       "'1100001'"
      ]
     },
     "execution_count": 5,
     "metadata": {},
     "output_type": "execute_result"
    }
   ],
   "source": [
    "POLY64 = baseToPoly(64)\n",
    "POLY64"
   ]
  },
  {
   "cell_type": "code",
   "execution_count": 6,
   "id": "digital-photograph",
   "metadata": {},
   "outputs": [
    {
     "name": "stdout",
     "output_type": "stream",
     "text": [
      "Finding 55 + 49 mod (x^6 + x^5 + 1)\n",
      "55 + 49 = \n",
      "110111 + 110001 = \n",
      "                      110\n",
      "\n",
      "110 / 1100001 = \n",
      "#########################\n"
     ]
    },
    {
     "data": {
      "text/plain": [
       "6"
      ]
     },
     "execution_count": 6,
     "metadata": {},
     "output_type": "execute_result"
    }
   ],
   "source": [
    "polyAdd(55,49,POLY64,True)"
   ]
  },
  {
   "cell_type": "code",
   "execution_count": 7,
   "id": "abroad-breeding",
   "metadata": {},
   "outputs": [
    {
     "name": "stdout",
     "output_type": "stream",
     "text": [
      "Finding 55 * 49 mod (x^6 + x^5 + 1)\n",
      "55 * 49 = \n",
      "110111 * 110001 = \n",
      "#########################\n",
      "              11011100000\n",
      "               1101110000\n",
      "                   110111\n",
      "#########################\n",
      "              10110100111\n",
      "\n",
      "10110100111 / 1100001 = \n",
      "#########################\n",
      "              10110100111\n",
      "              11000010000\n",
      "               1110110111\n",
      "#########################\n",
      "               1110110111\n",
      "               1100001000\n",
      "                 10111111\n",
      "#########################\n",
      "                 10111111\n",
      "                 11000010\n",
      "                  1111101\n",
      "#########################\n",
      "                  1111101\n",
      "                  1100001\n",
      "                    11100\n",
      "#########################\n"
     ]
    },
    {
     "data": {
      "text/plain": [
       "28"
      ]
     },
     "execution_count": 7,
     "metadata": {},
     "output_type": "execute_result"
    }
   ],
   "source": [
    "polyMult(55,49,POLY64,True)"
   ]
  },
  {
   "cell_type": "code",
   "execution_count": 8,
   "id": "resident-hydrogen",
   "metadata": {},
   "outputs": [
    {
     "name": "stdout",
     "output_type": "stream",
     "text": [
      "doing polyPowmod(7,5,1,1100001)\n",
      "doing polyPowmod(21,2,7,1100001)\n",
      "doing polyPowmod(54,1,7,1100001)\n",
      "Returning 54 * 7 mod (x^6 + x^5 + 1)\n"
     ]
    },
    {
     "data": {
      "text/plain": [
       "33"
      ]
     },
     "execution_count": 8,
     "metadata": {},
     "output_type": "execute_result"
    }
   ],
   "source": [
    "polyPowmod(7,5,1,POLY64,True)"
   ]
  },
  {
   "cell_type": "code",
   "execution_count": 9,
   "id": "numeric-hierarchy",
   "metadata": {},
   "outputs": [
    {
     "data": {
      "text/plain": [
       "59"
      ]
     },
     "execution_count": 9,
     "metadata": {},
     "output_type": "execute_result"
    }
   ],
   "source": [
    "polyPowmod(polyAdd(11,41,POLY64),2,1,POLY64)"
   ]
  },
  {
   "cell_type": "code",
   "execution_count": 10,
   "id": "quarterly-search",
   "metadata": {},
   "outputs": [
    {
     "data": {
      "text/plain": [
       "59"
      ]
     },
     "execution_count": 10,
     "metadata": {},
     "output_type": "execute_result"
    }
   ],
   "source": [
    "polyAdd(polyPowmod(11,2,1,POLY64),polyPowmod(41,2,1,POLY64),POLY64)"
   ]
  },
  {
   "cell_type": "code",
   "execution_count": 11,
   "id": "specified-antibody",
   "metadata": {},
   "outputs": [
    {
     "name": "stdout",
     "output_type": "stream",
     "text": [
      "Found @y=3, 544\n",
      "Factors of 295927 are {'541': 1, '547': 1}\n"
     ]
    },
    {
     "data": {
      "text/plain": [
       "{'541': 1, '547': 1}"
      ]
     },
     "execution_count": 11,
     "metadata": {},
     "output_type": "execute_result"
    }
   ],
   "source": [
    "fermatFactor(295927)"
   ]
  },
  {
   "cell_type": "code",
   "execution_count": 12,
   "id": "minus-omega",
   "metadata": {},
   "outputs": [
    {
     "name": "stdout",
     "output_type": "stream",
     "text": [
      "Finding 8 * 15 mod (x^4 + x^3 + 1)\n",
      "8 * 15 = \n",
      "1000 * 1111 = \n",
      "#########################\n",
      "                  1000000\n",
      "                   100000\n",
      "                    10000\n",
      "                     1000\n",
      "#########################\n",
      "                  1111000\n",
      "\n",
      "1111000 / 11001 = \n",
      "#########################\n",
      "                  1111000\n",
      "                  1100100\n",
      "                    11100\n",
      "#########################\n",
      "                    11100\n",
      "                    11001\n",
      "                      101\n",
      "#########################\n"
     ]
    },
    {
     "data": {
      "text/plain": [
       "5"
      ]
     },
     "execution_count": 12,
     "metadata": {},
     "output_type": "execute_result"
    }
   ],
   "source": [
    "polyMult(8,15,baseToPoly(16),True)"
   ]
  },
  {
   "cell_type": "code",
   "execution_count": 13,
   "id": "substantial-forth",
   "metadata": {},
   "outputs": [
    {
     "name": "stdout",
     "output_type": "stream",
     "text": [
      "Tr(13) in F16\n",
      "Frobenius pows of 16 are [1, 2, 4, 8]\n",
      "13^(x)1 (+) 13^(x)2 (+) 13^(x)4 (+) 13^(x)8 (+) = 0\n"
     ]
    },
    {
     "data": {
      "text/plain": [
       "0"
      ]
     },
     "execution_count": 13,
     "metadata": {},
     "output_type": "execute_result"
    }
   ],
   "source": [
    "trace(13,16)"
   ]
  },
  {
   "cell_type": "code",
   "execution_count": 14,
   "id": "pressing-terrorism",
   "metadata": {},
   "outputs": [
    {
     "name": "stdout",
     "output_type": "stream",
     "text": [
      "Frobenius pows of 64 are [1, 2, 4, 8, 16, 32]\n"
     ]
    },
    {
     "data": {
      "text/plain": [
       "53"
      ]
     },
     "execution_count": 14,
     "metadata": {},
     "output_type": "execute_result"
    }
   ],
   "source": [
    "sqrtField(9,64)"
   ]
  },
  {
   "cell_type": "code",
   "execution_count": 15,
   "id": "inside-poverty",
   "metadata": {},
   "outputs": [
    {
     "data": {
      "text/plain": [
       "9"
      ]
     },
     "execution_count": 15,
     "metadata": {},
     "output_type": "execute_result"
    }
   ],
   "source": [
    "polyPowmod(53,2,1,baseToPoly(64))"
   ]
  },
  {
   "cell_type": "code",
   "execution_count": 17,
   "id": "agreed-classics",
   "metadata": {},
   "outputs": [
    {
     "name": "stdout",
     "output_type": "stream",
     "text": [
      "-- primitive(F64) --\n",
      "Found @y=1, 8\n",
      "Factors of 63 are {'7': 1, '9': 1}\n",
      "Factors: {'7': 1, '9': 1}\n",
      "Trying a = 2\n",
      "Testing against factor 7\n",
      "polyPowmod(2, 63 / 7, 1, 1100001) != 1\n",
      "Testing against factor 9\n",
      "polyPowmod(2, 63 / 9, 1, 1100001) != 1\n",
      "Primitive element = 2\n"
     ]
    },
    {
     "data": {
      "text/plain": [
       "2"
      ]
     },
     "execution_count": 17,
     "metadata": {},
     "output_type": "execute_result"
    }
   ],
   "source": [
    "fieldPrimitive(64)"
   ]
  },
  {
   "cell_type": "code",
   "execution_count": 18,
   "id": "spread-delivery",
   "metadata": {},
   "outputs": [
    {
     "data": {
      "text/plain": [
       "[2,\n",
       " 4,\n",
       " 8,\n",
       " 16,\n",
       " 32,\n",
       " 33,\n",
       " 35,\n",
       " 39,\n",
       " 47,\n",
       " 63,\n",
       " 31,\n",
       " 62,\n",
       " 29,\n",
       " 58,\n",
       " 21,\n",
       " 42,\n",
       " 53,\n",
       " 11,\n",
       " 22,\n",
       " 44,\n",
       " 57,\n",
       " 19,\n",
       " 38,\n",
       " 45,\n",
       " 59,\n",
       " 23,\n",
       " 46,\n",
       " 61,\n",
       " 27,\n",
       " 54,\n",
       " 13,\n",
       " 26,\n",
       " 52,\n",
       " 9,\n",
       " 18,\n",
       " 36,\n",
       " 41,\n",
       " 51,\n",
       " 7,\n",
       " 14,\n",
       " 28,\n",
       " 56,\n",
       " 17,\n",
       " 34,\n",
       " 37,\n",
       " 43,\n",
       " 55,\n",
       " 15,\n",
       " 30,\n",
       " 60,\n",
       " 25,\n",
       " 50,\n",
       " 5,\n",
       " 10,\n",
       " 20,\n",
       " 40,\n",
       " 49,\n",
       " 3,\n",
       " 6,\n",
       " 12,\n",
       " 24,\n",
       " 48,\n",
       " 1]"
      ]
     },
     "execution_count": 18,
     "metadata": {},
     "output_type": "execute_result"
    }
   ],
   "source": [
    "getFieldCycle(2,64)"
   ]
  },
  {
   "cell_type": "code",
   "execution_count": 19,
   "id": "fresh-pointer",
   "metadata": {},
   "outputs": [
    {
     "name": "stdout",
     "output_type": "stream",
     "text": [
      "Tr(10) in F16\n",
      "Frobenius pows of 16 are [1, 2, 4, 8]\n",
      "10^(x)1 (+) 10^(x)2 (+) 10^(x)4 (+) 10^(x)8 (+) = 0\n"
     ]
    },
    {
     "data": {
      "text/plain": [
       "0"
      ]
     },
     "execution_count": 19,
     "metadata": {},
     "output_type": "execute_result"
    }
   ],
   "source": [
    "trace(10,16)"
   ]
  },
  {
   "cell_type": "code",
   "execution_count": 20,
   "id": "packed-draft",
   "metadata": {},
   "outputs": [
    {
     "name": "stdout",
     "output_type": "stream",
     "text": [
      "Tr(9) in F16\n",
      "Frobenius pows of 16 are [1, 2, 4, 8]\n",
      "9^(x)1 (+) 9^(x)2 (+) 9^(x)4 (+) 9^(x)8 (+) = 1\n"
     ]
    },
    {
     "data": {
      "text/plain": [
       "1"
      ]
     },
     "execution_count": 20,
     "metadata": {},
     "output_type": "execute_result"
    }
   ],
   "source": [
    "trace(9,16)"
   ]
  },
  {
   "cell_type": "code",
   "execution_count": 21,
   "id": "satisfactory-chick",
   "metadata": {},
   "outputs": [
    {
     "name": "stdout",
     "output_type": "stream",
     "text": [
      "Tr(8) in F16\n",
      "Frobenius pows of 16 are [1, 2, 4, 8]\n",
      "8^(x)1 (+) 8^(x)2 (+) 8^(x)4 (+) 8^(x)8 (+) = 1\n"
     ]
    },
    {
     "data": {
      "text/plain": [
       "1"
      ]
     },
     "execution_count": 21,
     "metadata": {},
     "output_type": "execute_result"
    }
   ],
   "source": [
    "trace(8,16)"
   ]
  },
  {
   "cell_type": "code",
   "execution_count": 27,
   "id": "minor-deputy",
   "metadata": {},
   "outputs": [
    {
     "name": "stdout",
     "output_type": "stream",
     "text": [
      "solving 1x^2 + 15x + 14 = 0 in F16\n",
      "Finding Tr(ac / b^2)\n",
      "ac = 14\n",
      "bInv = 5\n",
      "bInvSq = 8\n",
      "Tr(13) in F16\n",
      "Frobenius pows of 16 are [1, 2, 4, 8]\n",
      "13^(x)1 (+) 13^(x)2 (+) 13^(x)4 (+) 13^(x)8 (+) = 0\n",
      "Tr = 0\n",
      "There is 2 solutions.\n",
      "x = by/a = (15y)\n",
      "1(15y)^2 + 15(15y) + 14 = 0\n",
      "1(15y)^2 + 15(15y) = 14\n",
      "3y^2 + 3y = 14\n",
      "3(y^2 + y) = 14\n",
      "y(y+1) = 14/3 = 13\n",
      "now to find a y * y+1 which = 13\n",
      "Found y = 4\n",
      "Returning (15 * 4) and (15 * 5)\n",
      "Solutions = (14, 1)\n"
     ]
    },
    {
     "data": {
      "text/plain": [
       "(14, 1)"
      ]
     },
     "execution_count": 27,
     "metadata": {},
     "output_type": "execute_result"
    }
   ],
   "source": [
    "quadraticEq(1,15,14,16)"
   ]
  },
  {
   "cell_type": "code",
   "execution_count": null,
   "id": "exceptional-pierre",
   "metadata": {},
   "outputs": [],
   "source": []
  }
 ],
 "metadata": {
  "kernelspec": {
   "display_name": "Python 3",
   "language": "python",
   "name": "python3"
  },
  "language_info": {
   "codemirror_mode": {
    "name": "ipython",
    "version": 3
   },
   "file_extension": ".py",
   "mimetype": "text/x-python",
   "name": "python",
   "nbconvert_exporter": "python",
   "pygments_lexer": "ipython3",
   "version": "3.9.1"
  }
 },
 "nbformat": 4,
 "nbformat_minor": 5
}
