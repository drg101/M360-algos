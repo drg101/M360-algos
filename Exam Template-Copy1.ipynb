{
 "cells": [
  {
   "cell_type": "markdown",
   "id": "second-calculation",
   "metadata": {},
   "source": [
    "## Template"
   ]
  },
  {
   "cell_type": "markdown",
   "id": "extensive-wellington",
   "metadata": {},
   "source": [
    "#### Daniel Reynolds //"
   ]
  },
  {
   "cell_type": "markdown",
   "id": "third-nepal",
   "metadata": {},
   "source": [
    "Useful symbols: ⊗,⊕,$\\sqrt{10}$,$F_{base}$,$a^{⊗b}$"
   ]
  },
  {
   "cell_type": "code",
   "execution_count": 1,
   "id": "ruled-video",
   "metadata": {},
   "outputs": [
    {
     "ename": "ImportError",
     "evalue": "cannot import name 'frobeniusPows' from 'frobenius' (C:\\Users\\danie\\M360\\M360-algos\\frobenius.py)",
     "output_type": "error",
     "traceback": [
      "\u001b[1;31m---------------------------------------------------------------------------\u001b[0m",
      "\u001b[1;31mImportError\u001b[0m                               Traceback (most recent call last)",
      "\u001b[1;32m<ipython-input-1-7ff43da6f0b0>\u001b[0m in \u001b[0;36m<module>\u001b[1;34m\u001b[0m\n\u001b[0;32m     22\u001b[0m \u001b[1;32mfrom\u001b[0m \u001b[0mfermatTest\u001b[0m \u001b[1;32mimport\u001b[0m \u001b[0mfermatTest\u001b[0m\u001b[1;33m\u001b[0m\u001b[1;33m\u001b[0m\u001b[0m\n\u001b[0;32m     23\u001b[0m \u001b[1;32mfrom\u001b[0m \u001b[0mbaseToPoly\u001b[0m \u001b[1;32mimport\u001b[0m \u001b[0mbaseToPoly\u001b[0m\u001b[1;33m\u001b[0m\u001b[1;33m\u001b[0m\u001b[0m\n\u001b[1;32m---> 24\u001b[1;33m \u001b[1;32mfrom\u001b[0m \u001b[0mfrobenius\u001b[0m \u001b[1;32mimport\u001b[0m \u001b[0mfrobeniusPows\u001b[0m\u001b[1;33m\u001b[0m\u001b[1;33m\u001b[0m\u001b[0m\n\u001b[0m\u001b[0;32m     25\u001b[0m \u001b[1;32mfrom\u001b[0m \u001b[0mtrace\u001b[0m \u001b[1;32mimport\u001b[0m \u001b[0mtrace\u001b[0m\u001b[1;33m\u001b[0m\u001b[1;33m\u001b[0m\u001b[0m\n",
      "\u001b[1;31mImportError\u001b[0m: cannot import name 'frobeniusPows' from 'frobenius' (C:\\Users\\danie\\M360\\M360-algos\\frobenius.py)"
     ]
    }
   ],
   "source": [
    "%config IPCompleter.greedy=True\n",
    "#imports\n",
    "from millerRabin import millerRabin\n",
    "from fermatFactor import fermatFactor\n",
    "from binom import binom\n",
    "from probalisticIsPrime import probalisticIsPrime\n",
    "from polyAdd import polyAdd\n",
    "from polyLongDiv import polyLongDiv\n",
    "from polyMult import polyMult\n",
    "from powmod import powMod\n",
    "from polyPowmod import polyPowmod\n",
    "from computeInverse import computeInverse\n",
    "from primitive import primitive\n",
    "from primitive import fieldPrimitive\n",
    "from getCycle import getCycle\n",
    "from getCycle import getFieldCycle\n",
    "from sqrtMod import sqrtField\n",
    "from isASquare import isASquare\n",
    "from pFactor import pFactor\n",
    "from allPrimitives import allPrimitives\n",
    "from euler import euler\n",
    "from fermatTest import fermatTest\n",
    "from baseToPoly import baseToPoly\n",
    "from frobenius import frobeniusPowers\n",
    "from trace import trace"
   ]
  },
  {
   "cell_type": "code",
   "execution_count": null,
   "id": "forbidden-ordinance",
   "metadata": {},
   "outputs": [],
   "source": [
    "fermatFactor(62251979)"
   ]
  },
  {
   "cell_type": "markdown",
   "id": "latin-norwegian",
   "metadata": {},
   "source": [
    "17⊗12"
   ]
  },
  {
   "cell_type": "code",
   "execution_count": null,
   "id": "seven-tucson",
   "metadata": {},
   "outputs": [],
   "source": [
    "polyMult(17,12,\"10011\",True)"
   ]
  },
  {
   "cell_type": "code",
   "execution_count": null,
   "id": "potential-consequence",
   "metadata": {},
   "outputs": [],
   "source": [
    "polyAdd(17,12,\"10011\",True)"
   ]
  },
  {
   "cell_type": "code",
   "execution_count": null,
   "id": "scientific-cross",
   "metadata": {},
   "outputs": [],
   "source": [
    "POLY64 = baseToPoly(64)\n",
    "POLY64"
   ]
  },
  {
   "cell_type": "code",
   "execution_count": null,
   "id": "charitable-central",
   "metadata": {},
   "outputs": [],
   "source": [
    "polyAdd(55,49,POLY64,True)"
   ]
  },
  {
   "cell_type": "code",
   "execution_count": null,
   "id": "announced-curve",
   "metadata": {},
   "outputs": [],
   "source": [
    "polyMult(55,49,POLY64,True)"
   ]
  },
  {
   "cell_type": "code",
   "execution_count": null,
   "id": "recreational-casino",
   "metadata": {},
   "outputs": [],
   "source": [
    "polyPowmod(7,5,1,POLY64,True)"
   ]
  },
  {
   "cell_type": "code",
   "execution_count": null,
   "id": "dated-governor",
   "metadata": {},
   "outputs": [],
   "source": [
    "polyPowmod(polyAdd(11,41,POLY64),2,1,POLY64)"
   ]
  },
  {
   "cell_type": "code",
   "execution_count": null,
   "id": "intensive-worry",
   "metadata": {},
   "outputs": [],
   "source": [
    "polyAdd(polyPowmod(11,2,1,POLY64),polyPowmod(41,2,1,POLY64),POLY64)"
   ]
  },
  {
   "cell_type": "code",
   "execution_count": null,
   "id": "fourth-church",
   "metadata": {},
   "outputs": [],
   "source": [
    "fermatFactor(295927)"
   ]
  },
  {
   "cell_type": "code",
   "execution_count": null,
   "id": "stock-search",
   "metadata": {},
   "outputs": [],
   "source": [
    "polyMult(8,15,baseToPoly(16),True)"
   ]
  },
  {
   "cell_type": "code",
   "execution_count": null,
   "id": "legendary-louisville",
   "metadata": {},
   "outputs": [],
   "source": []
  }
 ],
 "metadata": {
  "kernelspec": {
   "display_name": "Python 3",
   "language": "python",
   "name": "python3"
  },
  "language_info": {
   "codemirror_mode": {
    "name": "ipython",
    "version": 3
   },
   "file_extension": ".py",
   "mimetype": "text/x-python",
   "name": "python",
   "nbconvert_exporter": "python",
   "pygments_lexer": "ipython3",
   "version": "3.9.1"
  }
 },
 "nbformat": 4,
 "nbformat_minor": 5
}
