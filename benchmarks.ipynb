{
 "cells": [
  {
   "cell_type": "code",
   "execution_count": 29,
   "id": "swedish-burns",
   "metadata": {},
   "outputs": [],
   "source": [
    "from computeFieldInverse import computeFieldInverse"
   ]
  },
  {
   "cell_type": "code",
   "execution_count": null,
   "id": "regulation-trauma",
   "metadata": {},
   "outputs": [],
   "source": [
    "%%time\n",
    "powUp = 2**10\n",
    "for i in range(powUp):\n",
    "    computeFieldInverse(powUp,i)"
   ]
  },
  {
   "cell_type": "code",
   "execution_count": null,
   "id": "approximate-copper",
   "metadata": {},
   "outputs": [],
   "source": []
  },
  {
   "cell_type": "code",
   "execution_count": null,
   "id": "egyptian-structure",
   "metadata": {},
   "outputs": [],
   "source": []
  }
 ],
 "metadata": {
  "kernelspec": {
   "display_name": "Python 3",
   "language": "python",
   "name": "python3"
  },
  "language_info": {
   "codemirror_mode": {
    "name": "ipython",
    "version": 3
   },
   "file_extension": ".py",
   "mimetype": "text/x-python",
   "name": "python",
   "nbconvert_exporter": "python",
   "pygments_lexer": "ipython3",
   "version": "3.9.1"
  }
 },
 "nbformat": 4,
 "nbformat_minor": 5
}
