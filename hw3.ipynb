{
 "cells": [
  {
   "cell_type": "markdown",
   "id": "second-calculation",
   "metadata": {},
   "source": [
    "## HW3"
   ]
  },
  {
   "cell_type": "markdown",
   "id": "extensive-wellington",
   "metadata": {},
   "source": [
    "#### Daniel Reynolds 3/31/2021"
   ]
  },
  {
   "cell_type": "markdown",
   "id": "third-nepal",
   "metadata": {},
   "source": [
    "Useful symbols: ⊗,⊕,$\\sqrt{10}$,$F_{base}$,$a^{⊗b}$"
   ]
  },
  {
   "cell_type": "code",
   "execution_count": 1,
   "id": "ruled-video",
   "metadata": {},
   "outputs": [],
   "source": [
    "%config IPCompleter.greedy=True\n",
    "from IPython.display import display, Markdown, Latex\n",
    "#imports\n",
    "from millerRabin import millerRabin\n",
    "from fermatFactor import fermatFactor\n",
    "from binom import binom\n",
    "from probalisticIsPrime import probalisticIsPrime\n",
    "from polyAdd import polyAdd\n",
    "from polyLongDiv import polyLongDiv\n",
    "from polyMult import polyMult\n",
    "from powmod import powMod, powmod\n",
    "from polyPowmod import polyPowmod\n",
    "from computeInverse import computeInverse\n",
    "from primitive import primitive, fieldPrimitive\n",
    "from getCycle import getCycle,getFieldCycle\n",
    "from sqrtMod import sqrtField\n",
    "from isASquare import isASquare\n",
    "from pFactor import pFactor\n",
    "from allPrimitives import allPrimitives\n",
    "from euler import euler\n",
    "from fermatTest import fermatTest\n",
    "from baseToPoly import baseToPoly\n",
    "from frobenius import frobeniusPowers,frobeniusSqrt,frobenius\n",
    "from trace import trace\n",
    "from quadraticEq import quadraticEq, quadraticNumSolutions\n",
    "from isASquare import isASquare, legendre, jacobi\n",
    "from allSquares import allSquares,allSquaresAndRoots\n",
    "from characteristic import characteristic\n",
    "from pFactor import pFactor\n",
    "from bitsToPoly import bitsToPoly\n",
    "from fieldDiv import fieldDiv\n",
    "from zeroKnowledgeProof import zeroKnowledgeProof\n",
    "from divMod import divMod\n",
    "from chineseRemainderTheorem import crt, printCrtTable, crtJacobi\n",
    "from gcd import gcd\n",
    "from generateBigPrime import generateBigPrime"
   ]
  },
  {
   "cell_type": "markdown",
   "id": "thirty-packet",
   "metadata": {},
   "source": [
    "### Problem 1"
   ]
  },
  {
   "cell_type": "markdown",
   "id": "chief-reservation",
   "metadata": {},
   "source": [
    "#### (a) $(\\frac{129}{191})$"
   ]
  },
  {
   "cell_type": "code",
   "execution_count": 2,
   "id": "applied-embassy",
   "metadata": {},
   "outputs": [
    {
     "name": "stdout",
     "output_type": "stream",
     "text": [
      "(129/191) => factoring 129\n",
      "\n",
      "  (3/191) => * -1\n",
      "    (191/3) => \n",
      "      (2/3) => -1\n",
      "\n",
      "  (43/191) => * -1\n",
      "    (191/43) => \n",
      "      (19/43) => * -1\n",
      "        (43/19) => \n",
      "          (5/19) => * 1\n",
      "            (19/5) => \n",
      "              (4/5) => factoring 4\n",
      "\n",
      "                (2/5) => -1\n",
      "\n",
      "                (2/5) => -1\n"
     ]
    },
    {
     "data": {
      "text/plain": [
       "1"
      ]
     },
     "execution_count": 2,
     "metadata": {},
     "output_type": "execute_result"
    }
   ],
   "source": [
    "legendre(129,191)"
   ]
  },
  {
   "cell_type": "markdown",
   "id": "small-arbor",
   "metadata": {},
   "source": [
    "#### 1, which means 129 is a square mod 191"
   ]
  },
  {
   "cell_type": "markdown",
   "id": "leading-castle",
   "metadata": {},
   "source": [
    "#### (b) $(\\frac{795}{1531})$"
   ]
  },
  {
   "cell_type": "code",
   "execution_count": 3,
   "id": "coastal-phenomenon",
   "metadata": {},
   "outputs": [
    {
     "name": "stdout",
     "output_type": "stream",
     "text": [
      "(795/1531) => factoring 795\n",
      "\n",
      "  (3/1531) => * -1\n",
      "    (1531/3) => \n",
      "      (1/3) => 1\n",
      "\n",
      "  (5/1531) => * 1\n",
      "    (1531/5) => \n",
      "      (1/5) => 1\n",
      "\n",
      "  (53/1531) => * 1\n",
      "    (1531/53) => \n",
      "      (47/53) => * 1\n",
      "        (53/47) => \n",
      "          (6/47) => factoring 6\n",
      "\n",
      "            (2/47) => 1\n",
      "\n",
      "            (3/47) => * -1\n",
      "              (47/3) => \n",
      "                (2/3) => -1\n"
     ]
    },
    {
     "data": {
      "text/plain": [
       "-1"
      ]
     },
     "execution_count": 3,
     "metadata": {},
     "output_type": "execute_result"
    }
   ],
   "source": [
    "legendre(795,1531)"
   ]
  },
  {
   "cell_type": "markdown",
   "id": "considerable-substitute",
   "metadata": {},
   "source": [
    "#### -1, which means 795 is not a square mod 1531"
   ]
  },
  {
   "cell_type": "markdown",
   "id": "listed-fifteen",
   "metadata": {},
   "source": [
    "### Problem 2"
   ]
  },
  {
   "cell_type": "markdown",
   "id": "emotional-graduation",
   "metadata": {},
   "source": [
    "#### (a) $(\\frac{41}{79})$"
   ]
  },
  {
   "cell_type": "code",
   "execution_count": 4,
   "id": "united-jonathan",
   "metadata": {},
   "outputs": [
    {
     "name": "stdout",
     "output_type": "stream",
     "text": [
      "(41/79) => 2e * 1\n",
      "  (79/41) => 1c, doing a = 79 % 41\n",
      "    (38/41) => 1a 38 / 2\n",
      "      (2/41) => 2d = 1\n",
      "      (19/41) => 2e * 1\n",
      "        (41/19) => 1c, doing a = 41 % 19\n",
      "          (3/19) => 2e * -1\n",
      "            (19/3) => 1c, doing a = 19 % 3\n",
      "              (1/3) => 2b = 1\n"
     ]
    },
    {
     "data": {
      "text/plain": [
       "-1"
      ]
     },
     "execution_count": 4,
     "metadata": {},
     "output_type": "execute_result"
    }
   ],
   "source": [
    "jacobi(41,79)"
   ]
  },
  {
   "cell_type": "markdown",
   "id": "featured-terminal",
   "metadata": {},
   "source": [
    "#### -1"
   ]
  },
  {
   "cell_type": "markdown",
   "id": "infinite-howard",
   "metadata": {},
   "source": [
    "#### (b) $(\\frac{547}{647})$"
   ]
  },
  {
   "cell_type": "code",
   "execution_count": 5,
   "id": "distinguished-picture",
   "metadata": {},
   "outputs": [
    {
     "name": "stdout",
     "output_type": "stream",
     "text": [
      "(547/647) => 2e * -1\n",
      "  (647/547) => 1c, doing a = 647 % 547\n",
      "    (100/547) => 1a 100 / 2\n",
      "      (2/547) => 2d = -1\n",
      "      (50/547) => 1a 50 / 2\n",
      "        (2/547) => 2d = -1\n",
      "        (25/547) => 2e * 1\n",
      "          (547/25) => 1c, doing a = 547 % 25\n",
      "            (22/25) => 1a 22 / 2\n",
      "              (2/25) => 2d = 1\n",
      "              (11/25) => 2e * 1\n",
      "                (25/11) => 1c, doing a = 25 % 11\n",
      "                  (3/11) => 2e * -1\n",
      "                    (11/3) => 1c, doing a = 11 % 3\n",
      "                      (2/3) => 2d = -1\n"
     ]
    },
    {
     "data": {
      "text/plain": [
       "-1"
      ]
     },
     "execution_count": 5,
     "metadata": {},
     "output_type": "execute_result"
    }
   ],
   "source": [
    "jacobi(547,647)"
   ]
  },
  {
   "cell_type": "markdown",
   "id": "civic-police",
   "metadata": {},
   "source": [
    "#### -1"
   ]
  },
  {
   "cell_type": "markdown",
   "id": "fabulous-burlington",
   "metadata": {},
   "source": [
    "#### (c) $(\\frac{419}{461})$"
   ]
  },
  {
   "cell_type": "code",
   "execution_count": 6,
   "id": "catholic-enlargement",
   "metadata": {},
   "outputs": [
    {
     "name": "stdout",
     "output_type": "stream",
     "text": [
      "(419/461) => 2e * 1\n",
      "  (461/419) => 1c, doing a = 461 % 419\n",
      "    (42/419) => 1a 42 / 2\n",
      "      (2/419) => 2d = -1\n",
      "      (21/419) => 2e * 1\n",
      "        (419/21) => 1c, doing a = 419 % 21\n",
      "          (20/21) => 1a 20 / 2\n",
      "            (2/21) => 2d = -1\n",
      "            (10/21) => 1a 10 / 2\n",
      "              (2/21) => 2d = -1\n",
      "              (5/21) => 2e * 1\n",
      "                (21/5) => 1c, doing a = 21 % 5\n",
      "                  (1/5) => 2b = 1\n"
     ]
    },
    {
     "data": {
      "text/plain": [
       "-1"
      ]
     },
     "execution_count": 6,
     "metadata": {},
     "output_type": "execute_result"
    }
   ],
   "source": [
    "jacobi(419,461)"
   ]
  },
  {
   "cell_type": "markdown",
   "id": "clear-village",
   "metadata": {},
   "source": [
    "#### -1"
   ]
  },
  {
   "cell_type": "markdown",
   "id": "elegant-internet",
   "metadata": {},
   "source": [
    "### Problem 3"
   ]
  },
  {
   "cell_type": "markdown",
   "id": "juvenile-horror",
   "metadata": {},
   "source": [
    "#### (a)"
   ]
  },
  {
   "cell_type": "markdown",
   "id": "japanese-click",
   "metadata": {},
   "source": [
    "Methodology:\n",
    "<br>\n",
    "If we know b will be 0, pick a random z and set $y=z^{2}$ mod n.\n",
    "<br>\n",
    "If we know b will be 1, pick a random z and set $y=\\frac{z^{2}}{x}$ mod n."
   ]
  },
  {
   "cell_type": "code",
   "execution_count": 7,
   "id": "atlantic-intention",
   "metadata": {},
   "outputs": [
    {
     "name": "stdout",
     "output_type": "stream",
     "text": [
      "Using y=36370939 and z=12345 for a b=0\n",
      "Bob accepts @i=1\n",
      "\n",
      "Using y=21431605 and z=12345 for a b=1\n",
      "Bob accepts @i=2\n",
      "\n",
      "Using y=16485723 and z=6789 for a b=1\n",
      "Bob accepts @i=2\n",
      "\n",
      "Using y=46090521 and z=6789 for a b=0\n",
      "Bob accepts @i=4\n",
      "\n"
     ]
    }
   ],
   "source": [
    "# My work:\n",
    "n = 58014043\n",
    "x = 18059241\n",
    "def test(y,b,z,i):\n",
    "    print(f\"Using y={y} and z={z} for a b={b}\")\n",
    "    if zeroKnowledgeProof(y,b,z,n,x):\n",
    "        print(f\"Bob accepts @i={i}\\n\")\n",
    "    \n",
    "\n",
    "z1 = 12345 \n",
    "y1 = powmod(z1,2,n) \n",
    "test(y1,0,z1,1)\n",
    "\n",
    "z2 = 12345\n",
    "y2 = divMod(powmod(z2,2,n),x,n)\n",
    "test(y2,1,z2,2)\n",
    "\n",
    "z3 = 6789\n",
    "y3 = divMod(powmod(z3,2,n),x,n)\n",
    "test(y3,1,z3,2)\n",
    "\n",
    "z4 = 6789\n",
    "y4 = powmod(z4,2,n) \n",
    "test(y4,0,z4,4)"
   ]
  },
  {
   "cell_type": "markdown",
   "id": "floral-discharge",
   "metadata": {},
   "source": [
    "|$i$|$y_{i}$|$b_{i}$|$z_{i}$|Bob Checks|Accept|\n",
    "|:--|:--    |:--    |:--    |:--       |:--   |\n",
    "|1|36370939|0|12345|$z^{2}\\equiv y$ mod $n$|Yes|\n",
    "|2|21431605|1|12345|$z^{2}\\equiv xy$ mod $n$|Yes|\n",
    "|3|16485723|1|6789|$z^{2}\\equiv xy$ mod $n$|Yes|\n",
    "|4|46090521|0|6789|$z^{2}\\equiv y$ mod $n$|Yes|"
   ]
  },
  {
   "cell_type": "markdown",
   "id": "pediatric-remedy",
   "metadata": {},
   "source": [
    "#### (a)"
   ]
  },
  {
   "cell_type": "markdown",
   "id": "metallic-strength",
   "metadata": {},
   "source": [
    "Brute force to find $s$"
   ]
  },
  {
   "cell_type": "code",
   "execution_count": 8,
   "id": "hired-denmark",
   "metadata": {},
   "outputs": [
    {
     "name": "stdout",
     "output_type": "stream",
     "text": [
      "Found s=2992\n"
     ]
    },
    {
     "data": {
      "text/plain": [
       "2992"
      ]
     },
     "execution_count": 8,
     "metadata": {},
     "output_type": "execute_result"
    }
   ],
   "source": [
    "n = 58014043\n",
    "x = 8952064\n",
    "sFound = False\n",
    "s = 1\n",
    "while not(sFound):\n",
    "    s = s+1\n",
    "    if powmod(s,2,n) == x:\n",
    "        print(f\"Found s={s}\")\n",
    "        sFound = True\n",
    "s"
   ]
  },
  {
   "cell_type": "markdown",
   "id": "rubber-customer",
   "metadata": {},
   "source": [
    "$s=2992$"
   ]
  },
  {
   "cell_type": "code",
   "execution_count": 9,
   "id": "alike-pharmacology",
   "metadata": {},
   "outputs": [
    {
     "name": "stdout",
     "output_type": "stream",
     "text": [
      "Using y=29011331 and z=15831509 for a b=1\n",
      "Bob accepts @i=1\n",
      "\n",
      "Using y=26078484 and z=29087743 for a b=1\n",
      "Bob accepts @i=2\n",
      "\n",
      "Using y=26078484 and z=67891 for a b=0\n",
      "Bob accepts @i=3\n",
      "\n",
      "Using y=15421329 and z=3927 for a b=0\n",
      "Bob accepts @i=4\n",
      "\n"
     ]
    }
   ],
   "source": [
    "# we know s=2992, lets do the game\n",
    "\n",
    "u1 = 24681\n",
    "y1 = powmod(u1,2,n)\n",
    "# we recieve a 1 from bob\n",
    "z1 = (u1 * s) % n\n",
    "test(y1,1,z1,1)\n",
    "\n",
    "u2 = 67891\n",
    "y2 = powmod(u2,2,n)\n",
    "# we recieve a 1 from bob\n",
    "z2 = (u2 * s) % n\n",
    "test(y2,1,z2,2)\n",
    "\n",
    "u3 = 67891\n",
    "y3 = powmod(u3,2,n)\n",
    "# we recieve a 0 from bob\n",
    "z3 = u3\n",
    "test(y3,0,z3,3)\n",
    "\n",
    "u4 = 3927\n",
    "y4 = powmod(u4,2,n)\n",
    "# we recieve a 0 from bob\n",
    "z4 = u4\n",
    "test(y4,0,z4,4)"
   ]
  },
  {
   "cell_type": "markdown",
   "id": "continuous-evolution",
   "metadata": {},
   "source": [
    "|$i$|$u_{i}$|$y_{i}$|$b_{i}$|$z_{i}$|Bob Checks|Accept|\n",
    "|:--|:--    |:--    |:--    |:--    |:--       |:--   |\n",
    "|1|24681|29011331|1|15831509|$z^{2}\\equiv xy$ mod $n$|Yes|\n",
    "|2|67891|26078484|1|29087743|$z^{2}\\equiv xy$ mod $n$|Yes|\n",
    "|3|67891|26078484|0|67891|$z^{2}\\equiv y$ mod $n$|Yes|\n",
    "|4|3927|15421329|0|3927|$z^{2}\\equiv y$ mod $n$|Yes|"
   ]
  },
  {
   "cell_type": "markdown",
   "id": "absolute-apollo",
   "metadata": {},
   "source": [
    "### Problem 4"
   ]
  },
  {
   "cell_type": "code",
   "execution_count": 10,
   "id": "premier-twenty",
   "metadata": {},
   "outputs": [],
   "source": [
    "p = 3\n",
    "q = 7"
   ]
  },
  {
   "cell_type": "markdown",
   "id": "bacterial-service",
   "metadata": {},
   "source": [
    "#### (a)"
   ]
  },
  {
   "cell_type": "code",
   "execution_count": 11,
   "id": "furnished-buying",
   "metadata": {},
   "outputs": [
    {
     "data": {
      "text/markdown": [
       "|p/q|$0$|$1$|$2$|$3$|$4$|$5$|$6$|\n",
       "|:-:|:-:|:-:|:-:|:-:|:-:|:-:|:-:|\n",
       "|$0$|$0$|$15$|$9$|$3$|$18$|$12$|$6$|\n",
       "|$1$|$7$|$1$|$16$|$10$|$4$|$19$|$13$|\n",
       "|$2$|$14$|$8$|$2$|$17$|$11$|$5$|$20$|"
      ],
      "text/plain": [
       "<IPython.core.display.Markdown object>"
      ]
     },
     "metadata": {},
     "output_type": "display_data"
    }
   ],
   "source": [
    "printCrtTable(crt(3,7))"
   ]
  },
  {
   "cell_type": "markdown",
   "id": "aquatic-valve",
   "metadata": {},
   "source": [
    "#### (b)"
   ]
  },
  {
   "cell_type": "code",
   "execution_count": 12,
   "id": "engaged-maximum",
   "metadata": {},
   "outputs": [
    {
     "data": {
      "text/markdown": [
       "|p/q|$0$|$1$|$2$|$3$|$4$|$5$|$6$|\n",
       "|:-:|:-:|:-:|:-:|:-:|:-:|:-:|:-:|\n",
       "|$0$|$0$|$0$|$0$|$0$|$0$|$0$|$0$|\n",
       "|$1$|$0$|$1$|$1$|$-1$|$1$|$-1$|$-1$|\n",
       "|$2$|$0$|$-1$|$-1$|$1$|$-1$|$1$|$1$|"
      ],
      "text/plain": [
       "<IPython.core.display.Markdown object>"
      ]
     },
     "metadata": {},
     "output_type": "display_data"
    }
   ],
   "source": [
    "printCrtTable(crtJacobi(3,7))"
   ]
  },
  {
   "cell_type": "markdown",
   "id": "german-luxury",
   "metadata": {},
   "source": [
    "#### (c)"
   ]
  },
  {
   "cell_type": "code",
   "execution_count": 25,
   "id": "outdoor-appeal",
   "metadata": {},
   "outputs": [
    {
     "name": "stdout",
     "output_type": "stream",
     "text": [
      "Finding all squares and their roots in F21\n"
     ]
    },
    {
     "data": {
      "text/plain": [
       "{0: [0],\n",
       " 1: [1, 8, 13, 20],\n",
       " 4: [2, 5, 16, 19],\n",
       " 9: [3, 18],\n",
       " 16: [4, 10, 11, 17],\n",
       " 15: [6, 15],\n",
       " 7: [7, 14],\n",
       " 18: [9, 12]}"
      ]
     },
     "execution_count": 25,
     "metadata": {},
     "output_type": "execute_result"
    }
   ],
   "source": [
    "allSquaresAndRoots(21)"
   ]
  },
  {
   "cell_type": "markdown",
   "id": "controlled-marina",
   "metadata": {},
   "source": [
    "|p/q|$0$|$1$|$2$|$3$|$4$|$5$|$6$|\n",
    "|:--|:--|:--|:--|:--|:--|:--|:--|\n",
    "|$0$|✓|✓|✓|✘|✓|✘|✘|\n",
    "|$1$|✓|✓|✓|✘|✓|✘|✘|\n",
    "|$2$|✘|✘|✘|✘|✘|✘|✘|"
   ]
  },
  {
   "cell_type": "markdown",
   "id": "loving-income",
   "metadata": {},
   "source": [
    "#### (d)"
   ]
  },
  {
   "cell_type": "markdown",
   "id": "intended-heavy",
   "metadata": {},
   "source": [
    "#### There are 8 elements that are squares mod 21, if you include 0."
   ]
  },
  {
   "cell_type": "code",
   "execution_count": null,
   "id": "flush-lingerie",
   "metadata": {},
   "outputs": [],
   "source": []
  }
 ],
 "metadata": {
  "kernelspec": {
   "display_name": "Python 3",
   "language": "python",
   "name": "python3"
  },
  "language_info": {
   "codemirror_mode": {
    "name": "ipython",
    "version": 3
   },
   "file_extension": ".py",
   "mimetype": "text/x-python",
   "name": "python",
   "nbconvert_exporter": "python",
   "pygments_lexer": "ipython3",
   "version": "3.9.1"
  }
 },
 "nbformat": 4,
 "nbformat_minor": 5
}
