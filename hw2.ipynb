{
 "cells": [
  {
   "cell_type": "markdown",
   "id": "animal-robertson",
   "metadata": {},
   "source": [
    "#### Daniel Reynolds\n",
    "#### M360 HW2"
   ]
  },
  {
   "cell_type": "markdown",
   "id": "noted-approach",
   "metadata": {},
   "source": [
    "## Problem 1: In F base 16 using the polynomial from the table compute the following."
   ]
  },
  {
   "cell_type": "markdown",
   "id": "accurate-badge",
   "metadata": {},
   "source": [
    "First: Lets find our base 16 polynomial: x^4 + x^3 + 1, or 11001 in binary"
   ]
  },
  {
   "cell_type": "code",
   "execution_count": 1,
   "id": "referenced-expression",
   "metadata": {},
   "outputs": [
    {
     "name": "stdout",
     "output_type": "stream",
     "text": [
      "Our polynomial is: x^4 + x^3 + 1\n"
     ]
    }
   ],
   "source": [
    "from bitsToPoly import bitsToPoly\n",
    "POLYNOMIAL = \"11001\"\n",
    "print(f\"Our polynomial is: {bitsToPoly(POLYNOMIAL)}\")"
   ]
  },
  {
   "cell_type": "markdown",
   "id": "convenient-sensitivity",
   "metadata": {},
   "source": [
    "### 8 ⊕ 14:"
   ]
  },
  {
   "cell_type": "code",
   "execution_count": 2,
   "id": "equipped-ranch",
   "metadata": {},
   "outputs": [
    {
     "name": "stdout",
     "output_type": "stream",
     "text": [
      "Finding 8 + 14 mod (x^4 + x^3 + 1)\n",
      "8 + 14 = \n",
      "1000 + 1110 = \n",
      "                      110\n",
      "\n",
      "110 / 11001 = \n",
      "#########################\n",
      "\n",
      "8 ⊕ 14 = 6\n"
     ]
    }
   ],
   "source": [
    "from polyAdd import polyAdd\n",
    "print(f\"\\n8 ⊕ 14 = {polyAdd(8,14,POLYNOMIAL,True)}\")"
   ]
  },
  {
   "cell_type": "markdown",
   "id": "greek-humanitarian",
   "metadata": {},
   "source": [
    "8 ⊕ 14 = 6"
   ]
  },
  {
   "cell_type": "markdown",
   "id": "fancy-quarterly",
   "metadata": {},
   "source": [
    "### 9 ⊗ 13"
   ]
  },
  {
   "cell_type": "code",
   "execution_count": 3,
   "id": "olympic-coral",
   "metadata": {},
   "outputs": [
    {
     "name": "stdout",
     "output_type": "stream",
     "text": [
      "Finding 9 * 13 mod (x^4 + x^3 + 1)\n",
      "9 * 13 = \n",
      "1001 * 1101 = \n",
      "#########################\n",
      "                  1001000\n",
      "                   100100\n",
      "                     1001\n",
      "#########################\n",
      "                  1100101\n",
      "\n",
      "1100101 / 11001 = \n",
      "#########################\n",
      "                  1100101\n",
      "                  1100100\n",
      "                        1\n",
      "#########################\n",
      "\n",
      "9 ⊗ 13 = 1\n"
     ]
    }
   ],
   "source": [
    "from polyMult import polyMult\n",
    "print(f\"\\n9 ⊗ 13 = {polyMult(9,13,POLYNOMIAL,True)}\")"
   ]
  },
  {
   "cell_type": "markdown",
   "id": "subsequent-conspiracy",
   "metadata": {},
   "source": [
    "9 ⊗ 13 = 1"
   ]
  },
  {
   "cell_type": "markdown",
   "id": "french-committee",
   "metadata": {},
   "source": [
    "### 9<sup>⊗5</sup>"
   ]
  },
  {
   "cell_type": "code",
   "execution_count": 4,
   "id": "domestic-reverse",
   "metadata": {
    "scrolled": true
   },
   "outputs": [
    {
     "name": "stdout",
     "output_type": "stream",
     "text": [
      "doing polyPowmod(9,5,1,11001)\n",
      "doing polyPowmod(14,2,9,11001)\n",
      "doing polyPowmod(2,1,9,11001)\n",
      "Returning 2 * 9 mod (x^4 + x^3 + 1)\n",
      "\n",
      "9^⊗5 = 11\n"
     ]
    }
   ],
   "source": [
    "from polyPowmod import polyPowmod\n",
    "print(f\"\\n9^⊗5 = {polyPowmod(9,5,1,POLYNOMIAL,True)}\")"
   ]
  },
  {
   "cell_type": "markdown",
   "id": "adequate-spice",
   "metadata": {},
   "source": [
    "9<sup>⊗5</sup> = 11"
   ]
  },
  {
   "cell_type": "markdown",
   "id": "fitted-error",
   "metadata": {},
   "source": [
    "### (5 ⊕ 7)<sup>⊗2</sup>"
   ]
  },
  {
   "cell_type": "code",
   "execution_count": 5,
   "id": "conditional-context",
   "metadata": {},
   "outputs": [
    {
     "name": "stdout",
     "output_type": "stream",
     "text": [
      "First 5 ⊕ 7:\n",
      "Finding 5 + 7 mod (x^4 + x^3 + 1)\n",
      "5 + 7 = \n",
      "101 + 111 = \n",
      "                       10\n",
      "\n",
      "10 / 11001 = \n",
      "#########################\n",
      "5 ⊕ 7 = 2\n",
      "\n",
      "Then raise 2 to 2 mod the polynomial\n",
      "doing polyPowmod(2,2,1,11001)\n",
      "doing polyPowmod(4,1,1,11001)\n",
      "Returning 4 * 1 mod (x^4 + x^3 + 1)\n",
      "\n",
      "(5 ⊕ 7)^⊗5 = 4\n"
     ]
    }
   ],
   "source": [
    "print(\"First 5 ⊕ 7:\")\n",
    "_5Plus7 = polyAdd(5,7,POLYNOMIAL,True)\n",
    "print(f\"5 ⊕ 7 = {_5Plus7}\")\n",
    "print(f\"\\nThen raise {_5Plus7} to 2 mod the polynomial\")\n",
    "print(f\"\\n(5 ⊕ 7)^⊗5 = {polyPowmod(_5Plus7,2,1,POLYNOMIAL,True)}\")"
   ]
  },
  {
   "cell_type": "markdown",
   "id": "devoted-snapshot",
   "metadata": {},
   "source": [
    "(5 ⊕ 7)<sup>⊗2</sup> = 4"
   ]
  },
  {
   "cell_type": "markdown",
   "id": "typical-syria",
   "metadata": {},
   "source": [
    "### 5<sup>⊗2</sup> ⊕ 7<sup>⊗2</sup>"
   ]
  },
  {
   "cell_type": "code",
   "execution_count": 6,
   "id": "stuck-bottom",
   "metadata": {
    "scrolled": false
   },
   "outputs": [
    {
     "name": "stdout",
     "output_type": "stream",
     "text": [
      "5^⊗2:\n",
      "doing polyPowmod(5,2,1,11001)\n",
      "doing polyPowmod(8,1,1,11001)\n",
      "Returning 8 * 1 mod (x^4 + x^3 + 1)\n",
      "5^⊗2 = 8\n",
      "\n",
      "7^⊗2:\n",
      "doing polyPowmod(7,2,1,11001)\n",
      "doing polyPowmod(12,1,1,11001)\n",
      "Returning 12 * 1 mod (x^4 + x^3 + 1)\n",
      "7^⊗2 = 12\n",
      "\n",
      "Now find 8 ⊕ 12:\n",
      "Finding 8 + 12 mod (x^4 + x^3 + 1)\n",
      "8 + 12 = \n",
      "1000 + 1100 = \n",
      "                      100\n",
      "\n",
      "100 / 11001 = \n",
      "#########################\n",
      "\n",
      "5^⊗2 ⊕ 7^⊗2 = 4\n"
     ]
    }
   ],
   "source": [
    "print(\"5^⊗2:\")\n",
    "_5toThe2 = polyPowmod(5,2,1,POLYNOMIAL,True)\n",
    "print(f\"5^⊗2 = {_5toThe2}\")\n",
    "print(\"\\n7^⊗2:\")\n",
    "_7toThe2 = polyPowmod(7,2,1,POLYNOMIAL,True)\n",
    "print(f\"7^⊗2 = {_7toThe2}\")\n",
    "print(f\"\\nNow find {_5toThe2} ⊕ {_7toThe2}:\")\n",
    "print(f\"\\n5^⊗2 ⊕ 7^⊗2 = {polyAdd(_5toThe2,_7toThe2,POLYNOMIAL,True)}\")"
   ]
  },
  {
   "cell_type": "markdown",
   "id": "equal-spouse",
   "metadata": {},
   "source": [
    "5<sup>⊗2</sup> ⊕ 7<sup>⊗2</sup> = 4, this makes sense, as it should equal the same as the previous problem."
   ]
  },
  {
   "cell_type": "markdown",
   "id": "cheap-essay",
   "metadata": {},
   "source": [
    "### $\\sqrt{10}$"
   ]
  },
  {
   "cell_type": "code",
   "execution_count": 7,
   "id": "looking-clearing",
   "metadata": {},
   "outputs": [
    {
     "name": "stdout",
     "output_type": "stream",
     "text": [
      "sqrt(10): (we will use the trick from class and raise 10 to 8)\n",
      "doing polyPowmod(10,8,1,11001)\n",
      "doing polyPowmod(11,4,1,11001)\n",
      "doing polyPowmod(10,2,1,11001)\n",
      "doing polyPowmod(11,1,1,11001)\n",
      "Returning 11 * 1 mod (x^4 + x^3 + 1)\n",
      "\n",
      "sqrt(10) = 11\n",
      "doing polyPowmod(11,2,1,11001)\n",
      "doing polyPowmod(10,1,1,11001)\n",
      "Returning 10 * 1 mod (x^4 + x^3 + 1)\n",
      "Test against base truth: True\n"
     ]
    }
   ],
   "source": [
    "from polyPowmod import polyPowmod\n",
    "print(\"sqrt(10): (we will use the trick from class and raise 10 to 8)\")\n",
    "sqrt10 = polyPowmod(10,8,1,POLYNOMIAL,True)\n",
    "print(f\"\\nsqrt(10) = {sqrt10}\")\n",
    "print(f\"Test against base truth: {10 == polyPowmod(sqrt10,2,1,POLYNOMIAL)}\")"
   ]
  },
  {
   "cell_type": "markdown",
   "id": "capital-milwaukee",
   "metadata": {},
   "source": [
    "$\\sqrt{10}$ = 11"
   ]
  },
  {
   "cell_type": "markdown",
   "id": "turkish-tragedy",
   "metadata": {},
   "source": [
    "## Problem 2: In $F_{13}$ find all elements which are square modulo 13. For each square, find the square roots. Can you conjecture something?"
   ]
  },
  {
   "cell_type": "code",
   "execution_count": 14,
   "id": "upper-aircraft",
   "metadata": {
    "scrolled": false
   },
   "outputs": [
    {
     "name": "stdout",
     "output_type": "stream",
     "text": [
      "Squares mod 13: [0, 1, 4, 9, 3, 12, 10]\n",
      "Squares and their roots mod 13: {0: [0], 1: [1, 12], 4: [2, 11], 9: [3, 10], 3: [4, 9], 12: [5, 8], 10: [6, 7]}\n"
     ]
    }
   ],
   "source": [
    "from powmod import powMod\n",
    "BASE = 13\n",
    "MODULO = BASE\n",
    "squares = {} \n",
    "for i in range(0,BASE):\n",
    "    square = powMod(i,2,1,MODULO)\n",
    "    root = i\n",
    "    if not(square in squares):\n",
    "        squares[square] = [root]\n",
    "    else:\n",
    "        squares[square].append(root)\n",
    "print(f\"Squares mod {MODULO}: {list(squares)}\")    \n",
    "print(f\"Squares and their roots mod {MODULO}: {squares}\")"
   ]
  },
  {
   "cell_type": "markdown",
   "id": "german-exploration",
   "metadata": {},
   "source": [
    "I will make the conjecture that when in the field base `n`, any square with root `i` will also have the root `(n-i)`."
   ]
  },
  {
   "cell_type": "markdown",
   "id": "prescribed-seven",
   "metadata": {},
   "source": [
    "## Problem 3: Find all solutions $(x,y) ∈ F_{13}XF_{13}$ satisfying the equation $y^2≡x^3 + 2x + 5\\:mod\\:13$"
   ]
  },
  {
   "cell_type": "markdown",
   "id": "diagnostic-interstate",
   "metadata": {},
   "source": [
    "We will do $y≡\\sqrt{x^3 + 2x + 5}\\:mod\\:13$ by using the map we just made."
   ]
  },
  {
   "cell_type": "code",
   "execution_count": 15,
   "id": "broken-south",
   "metadata": {
    "scrolled": false
   },
   "outputs": [
    {
     "name": "stdout",
     "output_type": "stream",
     "text": [
      "(x,y) = (2,2)\n",
      "(x,y) = (2,11)\n",
      "(x,y) = (3,5)\n",
      "(x,y) = (3,8)\n",
      "(x,y) = (4,5)\n",
      "(x,y) = (4,8)\n",
      "(x,y) = (5,6)\n",
      "(x,y) = (5,7)\n",
      "(x,y) = (6,5)\n",
      "(x,y) = (6,8)\n",
      "(x,y) = (8,0)\n"
     ]
    }
   ],
   "source": [
    "for x in range(BASE):\n",
    "    #loop 0 -> 13\n",
    "    #find 𝑥^3+2𝑥+5\n",
    "    beforeSqrt = (x**3 + 2*x + 5) % 13\n",
    "    #use lookup table to find squareRoot\n",
    "    if beforeSqrt in squares.keys():\n",
    "        #solution found!\n",
    "        for y in squares[beforeSqrt]:\n",
    "            print(f\"(x,y) = ({x},{y})\")"
   ]
  }
 ],
 "metadata": {
  "kernelspec": {
   "display_name": "Python 3",
   "language": "python",
   "name": "python3"
  },
  "language_info": {
   "codemirror_mode": {
    "name": "ipython",
    "version": 3
   },
   "file_extension": ".py",
   "mimetype": "text/x-python",
   "name": "python",
   "nbconvert_exporter": "python",
   "pygments_lexer": "ipython3",
   "version": "3.7.9"
  }
 },
 "nbformat": 4,
 "nbformat_minor": 5
}
