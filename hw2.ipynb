{
 "cells": [
  {
   "cell_type": "markdown",
   "id": "noted-approach",
   "metadata": {},
   "source": [
    "# Problem 1: In F base 16 using the polynomial from the table compute the following."
   ]
  },
  {
   "cell_type": "markdown",
   "id": "accurate-badge",
   "metadata": {},
   "source": [
    "First: Lets find our base 16 polynomial: x^4 + x^3 + 1, or 11001 in binary"
   ]
  },
  {
   "cell_type": "code",
   "execution_count": 1,
   "id": "referenced-expression",
   "metadata": {},
   "outputs": [
    {
     "name": "stdout",
     "output_type": "stream",
     "text": [
      "Our polynomial is: x^4 + x^3 + 1\n"
     ]
    }
   ],
   "source": [
    "from bitsToPoly import bitsToPoly\n",
    "POLYNOMIAL = \"11001\"\n",
    "print(f\"Our polynomial is: {bitsToPoly(POLYNOMIAL)}\")"
   ]
  },
  {
   "cell_type": "markdown",
   "id": "convenient-sensitivity",
   "metadata": {},
   "source": [
    "### 8 ⊕ 14:"
   ]
  },
  {
   "cell_type": "code",
   "execution_count": 2,
   "id": "equipped-ranch",
   "metadata": {},
   "outputs": [
    {
     "name": "stdout",
     "output_type": "stream",
     "text": [
      "Finding 8 + 14 mod (x^4 + x^3 + 1)\n",
      "8 + 14 = \n",
      "1000 + 1110 = \n",
      "                      110\n",
      "\n",
      "110 / 11001 = \n",
      "#########################\n",
      "\n",
      "8 ⊕ 14 = 6\n"
     ]
    }
   ],
   "source": [
    "from polyAdd import polyAdd\n",
    "print(f\"\\n8 ⊕ 14 = {polyAdd(8,14,POLYNOMIAL,True)}\")"
   ]
  },
  {
   "cell_type": "markdown",
   "id": "fancy-quarterly",
   "metadata": {},
   "source": [
    "### 9 ⊗ 13"
   ]
  },
  {
   "cell_type": "code",
   "execution_count": 3,
   "id": "olympic-coral",
   "metadata": {},
   "outputs": [
    {
     "name": "stdout",
     "output_type": "stream",
     "text": [
      "Finding 9 * 13 mod (x^4 + x^3 + 1)\n",
      "9 * 13 = \n",
      "1001 * 1101 = \n",
      "#########################\n",
      "                  1001000\n",
      "                   100100\n",
      "                     1001\n",
      "#########################\n",
      "                  1100101\n",
      "\n",
      "1100101 / 11001 = \n",
      "#########################\n",
      "                  1100101\n",
      "                  1100100\n",
      "                        1\n",
      "#########################\n",
      "\n",
      "9 ⊗ 13 = 1\n"
     ]
    }
   ],
   "source": [
    "from polyMult import polyMult\n",
    "print(f\"\\n9 ⊗ 13 = {polyMult(9,13,POLYNOMIAL,True)}\")"
   ]
  },
  {
   "cell_type": "markdown",
   "id": "french-committee",
   "metadata": {},
   "source": [
    "### 9<sup>⊗5</sup>"
   ]
  },
  {
   "cell_type": "code",
   "execution_count": 4,
   "id": "domestic-reverse",
   "metadata": {
    "scrolled": true
   },
   "outputs": [
    {
     "name": "stdout",
     "output_type": "stream",
     "text": [
      "doing polyPowmod(9,5,1,11001)\n",
      "doing polyPowmod(14,2,9,11001)\n",
      "doing polyPowmod(2,1,9,11001)\n",
      "Returning 2 * 9 mod (x^4 + x^3 + 1)\n",
      "\n",
      "9^⊗5 = 11\n"
     ]
    }
   ],
   "source": [
    "from polyPowmod import polyPowmod\n",
    "print(f\"\\n9^⊗5 = {polyPowmod(9,5,1,POLYNOMIAL,True)}\")"
   ]
  },
  {
   "cell_type": "markdown",
   "id": "fitted-error",
   "metadata": {},
   "source": [
    "### (5 ⊕ 7)<sup>⊗2</sup>"
   ]
  },
  {
   "cell_type": "code",
   "execution_count": 7,
   "id": "conditional-context",
   "metadata": {},
   "outputs": [
    {
     "name": "stdout",
     "output_type": "stream",
     "text": [
      "First 5 ⊕ 7:\n",
      "Finding 5 + 7 mod (x^4 + x^3 + 1)\n",
      "5 + 7 = \n",
      "101 + 111 = \n",
      "                       10\n",
      "\n",
      "10 / 11001 = \n",
      "#########################\n",
      "5 ⊕ 7 = 2\n",
      "\n",
      "Then raise 2 to 2 mod the polynomial\n",
      "doing polyPowmod(2,2,1,11001)\n",
      "doing polyPowmod(4,1,1,11001)\n",
      "Returning 4 * 1 mod (x^4 + x^3 + 1)\n",
      "\n",
      "(5 ⊕ 7)^⊗5 = 4\n"
     ]
    }
   ],
   "source": [
    "print(\"First 5 ⊕ 7:\")\n",
    "_5Plus7 = polyAdd(5,7,POLYNOMIAL,True)\n",
    "print(f\"5 ⊕ 7 = {_5Plus7}\")\n",
    "print(f\"\\nThen raise {_5Plus7} to 2 mod the polynomial\")\n",
    "print(f\"\\n(5 ⊕ 7)^⊗5 = {polyPowmod(_5Plus7,2,1,POLYNOMIAL,True)}\")"
   ]
  },
  {
   "cell_type": "markdown",
   "id": "typical-syria",
   "metadata": {},
   "source": [
    "### 5<sup>⊗2</sup> ⊕ 7<sup>⊗2</sup>"
   ]
  },
  {
   "cell_type": "code",
   "execution_count": 11,
   "id": "stuck-bottom",
   "metadata": {},
   "outputs": [
    {
     "name": "stdout",
     "output_type": "stream",
     "text": [
      "5^⊗2:\n",
      "doing polyPowmod(5,2,1,11001)\n",
      "doing polyPowmod(8,1,1,11001)\n",
      "Returning 8 * 1 mod (x^4 + x^3 + 1)\n",
      "5^⊗2 = 8\n",
      "\n",
      "7^⊗2:\n",
      "doing polyPowmod(7,2,1,11001)\n",
      "doing polyPowmod(12,1,1,11001)\n",
      "Returning 12 * 1 mod (x^4 + x^3 + 1)\n",
      "7^⊗2 = 12\n",
      "\n",
      "Now find 8 ⊕ 12:\n",
      "Finding 8 + 12 mod (x^4 + x^3 + 1)\n",
      "8 + 12 = \n",
      "1000 + 1100 = \n",
      "                      100\n",
      "\n",
      "100 / 11001 = \n",
      "#########################\n",
      "\n",
      "5^⊗2 ⊕ 7^⊗2 = 4\n"
     ]
    }
   ],
   "source": [
    "print(\"5^⊗2:\")\n",
    "_5toThe2 = polyPowmod(5,2,1,POLYNOMIAL,True)\n",
    "print(f\"5^⊗2 = {_5toThe2}\")\n",
    "print(\"\\n7^⊗2:\")\n",
    "_7toThe2 = polyPowmod(7,2,1,POLYNOMIAL,True)\n",
    "print(f\"7^⊗2 = {_7toThe2}\")\n",
    "print(f\"\\nNow find {_5toThe2} ⊕ {_7toThe2}:\")\n",
    "print(f\"\\n5^⊗2 ⊕ 7^⊗2 = {polyAdd(_5toThe2,_7toThe2,POLYNOMIAL,True)}\")"
   ]
  },
  {
   "cell_type": "markdown",
   "id": "cheap-essay",
   "metadata": {},
   "source": [
    "### $\\sqrt{10}$"
   ]
  },
  {
   "cell_type": "code",
   "execution_count": 27,
   "id": "looking-clearing",
   "metadata": {},
   "outputs": [
    {
     "name": "stdout",
     "output_type": "stream",
     "text": [
      "sqrt(10): (we will use the trick from class and raise 10 to 8)\n",
      "doing polyPowmod(10,8,1,1101)\n",
      "doing polyPowmod(2,4,1,1101)\n",
      "doing polyPowmod(4,2,1,1101)\n",
      "doing polyPowmod(7,1,1,1101)\n",
      "Returning 7 * 1 mod (x^3 + x^2 + 1)\n",
      "\n",
      "sqrt(10) = 7\n"
     ]
    }
   ],
   "source": [
    "print(\"sqrt(10): (we will use the trick from class and raise 10 to 8)\")\n",
    "print(f\"\\nsqrt(10) = {polyPowmod(10,8,1,POLYNOMIAL,True)}\")"
   ]
  },
  {
   "cell_type": "markdown",
   "id": "turkish-tragedy",
   "metadata": {},
   "source": [
    "# Problem 2: In F base 13 find all elements which a square modulo 13. For each square, find the square roots. Can you conjecture something?"
   ]
  },
  {
   "cell_type": "code",
   "execution_count": 33,
   "id": "upper-aircraft",
   "metadata": {
    "scrolled": true
   },
   "outputs": [
    {
     "name": "stdout",
     "output_type": "stream",
     "text": [
      "Squares mod 13: [1, 4, 9, 3, 12, 10]\n",
      "Squares and their roots mod 13: {1: [1, 1], 4: [2, 4], 9: [3, 9], 3: [4, 3], 12: [5, 12], 10: [6, 10]}\n"
     ]
    }
   ],
   "source": [
    "from powmod import powMod\n",
    "MODULO = 13\n",
    "squares = {} \n",
    "for i in range(1,MODULO):\n",
    "    square = powMod(i,2,1,MODULO)\n",
    "    if not(square in squares):\n",
    "        squares[square] = [i]\n",
    "    else:\n",
    "        squares[square].append(square)\n",
    "print(f\"Squares mod {MODULO}: {list(squares)}\")    \n",
    "print(f\"Squares and their roots mod {MODULO}: {squares}\")\n",
    "    "
   ]
  },
  {
   "cell_type": "markdown",
   "id": "german-exploration",
   "metadata": {},
   "source": [
    "I will make the conjecture that the list of squares mod 13 can be generated by multiplying each element *n* by its square mod 13, from *n=1* to *n=(13/2 - 1)* "
   ]
  },
  {
   "cell_type": "markdown",
   "id": "prescribed-seven",
   "metadata": {},
   "source": [
    "# Problem 3: Find all solutions (x,y)∈ F13XF13 satisfying the equation $y^2≡x^3 + 2x + 5$  mod 13"
   ]
  },
  {
   "cell_type": "code",
   "execution_count": 36,
   "id": "broken-south",
   "metadata": {
    "scrolled": true
   },
   "outputs": [
    {
     "name": "stdout",
     "output_type": "stream",
     "text": [
      "(x,y) = (2,2)\n",
      "(x,y) = (2,11)\n",
      "(x,y) = (3,5)\n",
      "(x,y) = (3,8)\n",
      "(x,y) = (4,5)\n",
      "(x,y) = (4,8)\n",
      "(x,y) = (5,6)\n",
      "(x,y) = (5,7)\n",
      "(x,y) = (6,5)\n",
      "(x,y) = (6,8)\n",
      "(x,y) = (8,0)\n"
     ]
    }
   ],
   "source": [
    "for x in range(13):\n",
    "    for y in range(13):\n",
    "        leftSide = y**2 % 13\n",
    "        rightSide = (x**3 + 2*x + 5) % 13\n",
    "        if leftSide == rightSide:\n",
    "            print(f\"(x,y) = ({x},{y})\")"
   ]
  },
  {
   "cell_type": "code",
   "execution_count": null,
   "id": "seventh-athletics",
   "metadata": {},
   "outputs": [],
   "source": []
  }
 ],
 "metadata": {
  "kernelspec": {
   "display_name": "Python 3",
   "language": "python",
   "name": "python3"
  },
  "language_info": {
   "codemirror_mode": {
    "name": "ipython",
    "version": 3
   },
   "file_extension": ".py",
   "mimetype": "text/x-python",
   "name": "python",
   "nbconvert_exporter": "python",
   "pygments_lexer": "ipython3",
   "version": "3.9.1"
  }
 },
 "nbformat": 4,
 "nbformat_minor": 5
}
